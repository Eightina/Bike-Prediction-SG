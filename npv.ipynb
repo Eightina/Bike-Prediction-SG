{
 "cells": [
  {
   "cell_type": "code",
   "execution_count": null,
   "metadata": {},
   "outputs": [],
   "source": [
    "import matplotlib.pyplot as plt\n",
    "import numpy as np\n",
    "import pandas as pd\n",
    "import seaborn as sns\n",
    "import scipy\n",
    "from sklearn.ensemble import RandomForestRegressor\n",
    "from sklearn.metrics import mean_squared_error\n",
    "from sklearn.metrics import r2_score\n",
    "from sklearn.model_selection import train_test_split\n",
    "from sklearn.tree import DecisionTreeRegressor\n",
    "from sklearn.feature_selection import mutual_info_regression "
   ]
  },
  {
   "cell_type": "code",
   "execution_count": null,
   "metadata": {},
   "outputs": [],
   "source": [
    "sg=pd.read_csv('new_data.csv')"
   ]
  },
  {
   "cell_type": "code",
   "execution_count": null,
   "metadata": {},
   "outputs": [],
   "source": [
    "sg.describe().sum()"
   ]
  },
  {
   "cell_type": "code",
   "execution_count": null,
   "metadata": {},
   "outputs": [],
   "source": [
    "shp=pd.read_csv('c3.csv')\n",
    "shp.columns"
   ]
  },
  {
   "cell_type": "code",
   "execution_count": null,
   "metadata": {},
   "outputs": [],
   "source": [
    "shp.head()"
   ]
  },
  {
   "cell_type": "code",
   "execution_count": null,
   "metadata": {},
   "outputs": [],
   "source": [
    "x=shp['f_size']\n",
    "y=shp['trip']\n"
   ]
  },
  {
   "cell_type": "code",
   "execution_count": null,
   "metadata": {},
   "outputs": [],
   "source": [
    "for i in range(len(x)):\n",
    "    if x[i]==0:\n",
    "        shp.drop(index=i,inplace=True)"
   ]
  },
  {
   "cell_type": "code",
   "execution_count": null,
   "metadata": {},
   "outputs": [],
   "source": [
    "x=shp['f_size']\n",
    "y=shp['trip']\n",
    "xarray=x.values\n",
    "yarray=y.values"
   ]
  },
  {
   "cell_type": "code",
   "execution_count": null,
   "metadata": {},
   "outputs": [],
   "source": [
    "x.describe().max()"
   ]
  },
  {
   "cell_type": "code",
   "execution_count": null,
   "metadata": {},
   "outputs": [],
   "source": [
    "y.describe()"
   ]
  },
  {
   "cell_type": "code",
   "execution_count": null,
   "metadata": {},
   "outputs": [],
   "source": [
    "plotx=np.arange(40,300,1)\n",
    "z=np.polyfit(np.log(xarray),yarray,1)\n",
    "# z=scipy.optimize.curve_fit(lambda t,a,b: a+b*np.log(t),  x,  y)\n",
    "\n",
    "\n",
    "yvals=[z[0]*np.log(x)+z[1] for x in plotx]\n",
    "\n",
    "z2=[]\n",
    "z2.append(z[0])\n",
    "z2.append(z[1])\n",
    "\n",
    "\n",
    "\n",
    "def f(x):\n",
    "    return z2[0]*1/x+z2[1]\n",
    "yvals2=list(map(f,plotx))"
   ]
  },
  {
   "cell_type": "code",
   "execution_count": null,
   "metadata": {},
   "outputs": [],
   "source": [
    "plt.figure(dpi=200)\n",
    "plt.style.use('bmh')\n",
    "plt.plot(xarray,yarray,'co',markersize=3)\n",
    "plt.plot(plotx,yvals,'b')\n",
    "plt.plot(plotx,yvals2,'orange')\n",
    "plt.legend(('original_data', 'fit_function(TR)', 'margin_revenue(MR)'), loc='upper left') \n",
    "plt.xlabel(\"f_size(Q)\")\n",
    "plt.ylabel(\"ori_trip(TR)\")\n",
    "# plt.xticks(np.arange(0,120,20))\n",
    "# plt.yticks(np.arange(0,600,150))\n",
    "# plt.rcParams['font.sans-serif']=['SimHei']\n",
    "plt.title('ME_CLUSTER_3')\n",
    "plt.savefig('log_fit'+'c3'+'.jpg')\n",
    "plt.show() "
   ]
  },
  {
   "cell_type": "code",
   "execution_count": null,
   "metadata": {},
   "outputs": [],
   "source": [
    "z"
   ]
  },
  {
   "cell_type": "code",
   "execution_count": null,
   "metadata": {},
   "outputs": [],
   "source": [
    "z2"
   ]
  },
  {
   "cell_type": "code",
   "execution_count": null,
   "metadata": {},
   "outputs": [],
   "source": [
    "from sklearn.metrics import r2_score\n",
    "m=r2_score(yarray,[z[0]*np.log(x)+z[1] for x in xarray])"
   ]
  },
  {
   "cell_type": "code",
   "execution_count": null,
   "metadata": {},
   "outputs": [],
   "source": [
    "m"
   ]
  },
  {
   "cell_type": "markdown",
   "metadata": {},
   "source": [
    "------------------------------------------------------------------------------------------------"
   ]
  },
  {
   "cell_type": "markdown",
   "metadata": {},
   "source": [
    "-----------"
   ]
  },
  {
   "cell_type": "code",
   "execution_count": null,
   "metadata": {},
   "outputs": [],
   "source": [
    "fs=pd.read_csv('fleet_year.csv')\n",
    "del fs['Unnamed: 0']\n",
    "fs\n",
    "\n"
   ]
  },
  {
   "cell_type": "code",
   "execution_count": null,
   "metadata": {},
   "outputs": [],
   "source": [
    "plt.figure(dpi=200)\n",
    "\n",
    "fs.plot(title='fleet_year')\n"
   ]
  },
  {
   "cell_type": "code",
   "execution_count": null,
   "metadata": {},
   "outputs": [],
   "source": [
    "def calc(cluster,x):\n",
    "    coeff={0:[11.16072295,15.00225857],\n",
    "    1:[54.76679776,-41.49853624],\n",
    "    2:[108.73162029,-129.02104201],\n",
    "    3:[406.33979241,-1024.53201217]}\n",
    "    use_c=coeff[cluster]\n",
    "    return use_c[0]*np.log(x)+use_c[1]\n"
   ]
  },
  {
   "cell_type": "code",
   "execution_count": null,
   "metadata": {},
   "outputs": [],
   "source": [
    "shp=pd.read_csv('elas_calc.csv')\n",
    "del shp['ori.1']\n",
    "x=shp['trip']\n",
    "for i in range(len(x)):\n",
    "    if x[i]==0:\n",
    "        shp.drop(index=i,inplace=True)\n",
    "shp.head()"
   ]
  },
  {
   "cell_type": "code",
   "execution_count": null,
   "metadata": {},
   "outputs": [],
   "source": [
    "cls_array=shp.cluster\n",
    "o_fsize=shp.f_size\n",
    "coe=list(fs['sum'][1:])\n",
    "coe\n"
   ]
  },
  {
   "cell_type": "code",
   "execution_count": null,
   "metadata": {},
   "outputs": [],
   "source": [
    "o_sum=o_fsize.sum()\n",
    "o_sum"
   ]
  },
  {
   "cell_type": "code",
   "execution_count": null,
   "metadata": {},
   "outputs": [],
   "source": [
    "o_fsize"
   ]
  },
  {
   "cell_type": "code",
   "execution_count": null,
   "metadata": {},
   "outputs": [],
   "source": [
    "n_fsize=[]\n",
    "def calc_fsize(year):\n",
    "    shp['fsize'+'_year']=o_fsize*(coe[year]/o_sum)"
   ]
  },
  {
   "cell_type": "code",
   "execution_count": null,
   "metadata": {},
   "outputs": [],
   "source": [
    "def calc_trip(year):\n",
    "    calc_fsize(year)\n",
    "    n_fsize=list(shp['fsize_year'])\n",
    "    cluster=list(shp['cluster'])\n",
    "    return sum([calc(cluster=cluster[i],x=n_fsize[i]) for i in range(len(cluster))])\n",
    "\n"
   ]
  },
  {
   "cell_type": "code",
   "execution_count": null,
   "metadata": {},
   "outputs": [],
   "source": [
    "trip_years=[calc_trip(i) for i in range(0,10)]\n",
    "trip_years"
   ]
  },
  {
   "cell_type": "code",
   "execution_count": null,
   "metadata": {},
   "outputs": [],
   "source": [
    "trip_years=np.array([0]+trip_years)\n"
   ]
  },
  {
   "cell_type": "code",
   "execution_count": null,
   "metadata": {},
   "outputs": [],
   "source": [
    "trip_years=2*365*trip_years"
   ]
  },
  {
   "cell_type": "code",
   "execution_count": null,
   "metadata": {},
   "outputs": [],
   "source": [
    "fs['income']=trip_years"
   ]
  },
  {
   "cell_type": "code",
   "execution_count": null,
   "metadata": {},
   "outputs": [],
   "source": [
    "fs.to_csv('fleet_year.csv')\n",
    "fs['income'].plot(title='trip',xticks=range(0,11))"
   ]
  },
  {
   "cell_type": "code",
   "execution_count": null,
   "metadata": {},
   "outputs": [],
   "source": []
  }
 ],
 "metadata": {
  "kernelspec": {
   "display_name": "Python 3.6.13 64-bit ('python36': conda)",
   "name": "python3613jvsc74a57bd0c4ba2975249f22329a2bfd4358de00082d7a2d8b97caacaf84290d52b0d66844"
  },
  "language_info": {
   "codemirror_mode": {
    "name": "ipython",
    "version": 3
   },
   "file_extension": ".py",
   "mimetype": "text/x-python",
   "name": "python",
   "nbconvert_exporter": "python",
   "pygments_lexer": "ipython3",
   "version": "3.6.13"
  },
  "orig_nbformat": 2
 },
 "nbformat": 4,
 "nbformat_minor": 2
}
