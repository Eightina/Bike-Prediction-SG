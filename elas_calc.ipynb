{
 "cells": [
  {
   "cell_type": "code",
   "execution_count": null,
   "metadata": {},
   "outputs": [],
   "source": [
    "import matplotlib.pyplot as plt\n",
    "import numpy as np\n",
    "import pandas as pd\n",
    "import seaborn as sns\n",
    "\n",
    "from sklearn.ensemble import RandomForestRegressor\n",
    "from sklearn.metrics import mean_squared_error\n",
    "from sklearn.metrics import r2_score\n",
    "from sklearn.model_selection import train_test_split\n",
    "from sklearn.tree import DecisionTreeRegressor\n",
    "from sklearn.feature_selection import mutual_info_regression "
   ]
  },
  {
   "cell_type": "code",
   "execution_count": null,
   "metadata": {},
   "outputs": [],
   "source": [
    "df=pd.read_csv('lonal_entro.csv')\n",
    "df.columns"
   ]
  },
  {
   "cell_type": "code",
   "execution_count": null,
   "metadata": {},
   "outputs": [],
   "source": [
    "ycol='trip_m6_wd_pm'\n",
    "xcol=['dist_km', 'fsize_m6_wd_pm',\n",
    "       'trip_m6_wd_pm', 'mrt_km_o', 'entro_o','smooth_entro_o', 'cycle_km_o',\n",
    "       'far_hdb_o', 'far_priv_o', 'far_comm_o', 'mrt_km_d', 'entro_d','smooth_entro_d',\n",
    "       'cycle_km_d', 'far_hdb_d', 'far_priv_d', 'far_comm_d',\n",
    "       'ori_lat', 'ori_lon', 'dst_lat', 'dst_lon',\n",
    "       'has_trip', 'ori_lonal_pc1', 'ori_lonal_pc2', 'dst_lonal_pc1',\n",
    "       'dst_lonal_pc2', 'od_lonal_pc1', 'od_lonal_pc2', 'od_lonal_pc3',\n",
    "       'od_lonal_pc4']\n"
   ]
  },
  {
   "cell_type": "markdown",
   "metadata": {},
   "source": [
    "不对，不应该分析od。应该直接分析shape\n",
    "要添加到sg文件里的feature有：\n",
    "\n",
    "```python\n",
    "\n",
    "Index(['mrt_km_o', 'entro_o', 'cycle_km_o',\n",
    "       'far_hdb_o', 'far_priv_o', 'far_comm_o', 'smooth_entro_o']\n",
    "\n",
    "```"
   ]
  },
  {
   "cell_type": "code",
   "execution_count": null,
   "metadata": {},
   "outputs": [],
   "source": [
    "og_data=pd.read_csv('smooth_entro.csv')\n",
    "og_data.head()"
   ]
  },
  {
   "cell_type": "code",
   "execution_count": null,
   "metadata": {},
   "outputs": [],
   "source": [
    "sg_data=pd.read_csv('sg_trip_lonal.csv')\n",
    "sg_data.head()"
   ]
  },
  {
   "cell_type": "code",
   "execution_count": null,
   "metadata": {},
   "outputs": [],
   "source": [
    "sg_data=sg_data.set_index('ori',drop=False)\n",
    "og_data=og_data.set_index('ori')\n",
    "og_data.columns"
   ]
  },
  {
   "cell_type": "code",
   "execution_count": null,
   "metadata": {},
   "outputs": [],
   "source": [
    "og_data"
   ]
  },
  {
   "cell_type": "code",
   "execution_count": null,
   "metadata": {},
   "outputs": [],
   "source": [
    " delcol=['Unnamed: 0', 'Unnamed: 0.1', 'dst','dist_km', 'fsize_m6_wd_pm', 'trip_m6_wd_pm', 'community_m6','smooth_entro_d',\n",
    "'mrt_km_d', 'entro_d', 'cycle_km_d', 'far_hdb_d',\n",
    "       'far_priv_d', 'far_comm_d']\n",
    "for i in delcol:\n",
    "    del og_data[i]"
   ]
  },
  {
   "cell_type": "code",
   "execution_count": null,
   "metadata": {},
   "outputs": [],
   "source": [
    "og_data=og_data.drop_duplicates()\n",
    "og_data"
   ]
  },
  {
   "cell_type": "code",
   "execution_count": null,
   "metadata": {},
   "outputs": [],
   "source": [
    "res_data=pd.concat([sg_data,og_data],join='inner',axis=1)"
   ]
  },
  {
   "cell_type": "code",
   "execution_count": null,
   "metadata": {},
   "outputs": [],
   "source": [
    "del res_data['Unnamed: 0.1']\n",
    "res_data.to_csv('elas_calc.csv')"
   ]
  },
  {
   "cell_type": "code",
   "execution_count": null,
   "metadata": {},
   "outputs": [],
   "source": [
    "xdel2=['FID', 'xmin', 'xmax', 'ymin', 'ymax', 'Lat',\n",
    "       'Lon']\n",
    "for col in xdel2:\n",
    "       del res_data[col]"
   ]
  },
  {
   "cell_type": "code",
   "execution_count": null,
   "metadata": {},
   "outputs": [],
   "source": [
    "res_data.columns"
   ]
  },
  {
   "cell_type": "code",
   "execution_count": null,
   "metadata": {},
   "outputs": [],
   "source": [
    "ndf=pd.read_csv('elas_calc.csv')\n",
    "ndf"
   ]
  },
  {
   "cell_type": "code",
   "execution_count": null,
   "metadata": {},
   "outputs": [],
   "source": [
    "del ndf['ori.1']"
   ]
  },
  {
   "cell_type": "code",
   "execution_count": null,
   "metadata": {},
   "outputs": [],
   "source": [
    "plt.style.use('bmh')\n",
    "for col in ndf.columns:\n",
    "    if col not in ('trip','ori','cluster'):\n",
    "        sns.lmplot(x=col, y='trip',palette='pastel', data=ndf,order=3,hue='cluster')\n",
    "        plt.title(col)\n",
    "        plt.show()"
   ]
  },
  {
   "cell_type": "code",
   "execution_count": null,
   "metadata": {},
   "outputs": [],
   "source": [
    "df=pd.read_csv('elas_calc.csv')\n",
    "delcol=['ori.1','FID', 'xmin', 'xmax', 'ymin', 'ymax',\n",
    "    'Lat', 'Lon','entro_o','far_hdb_o', 'far_priv_o', 'far_comm_o' ]\n",
    "for col in delcol:\n",
    "    del df[col]\n",
    "df.columns"
   ]
  },
  {
   "cell_type": "code",
   "execution_count": null,
   "metadata": {},
   "outputs": [],
   "source": [
    "df.head()"
   ]
  },
  {
   "cell_type": "code",
   "execution_count": null,
   "metadata": {},
   "outputs": [],
   "source": [
    "pca=pd.read_csv('pca_far.csv')\n",
    "pca.columns\n",
    "\n"
   ]
  },
  {
   "cell_type": "code",
   "execution_count": null,
   "metadata": {},
   "outputs": [],
   "source": [
    "delcol=['Unnamed: 0','dst','dist_km', 'fsize_m6_wd_pm',\n",
    "       'trip_m6_wd_pm', 'community_m6', 'mrt_km_o', 'entro_o', 'cycle_km_o',\n",
    "       'far_hdb_o', 'far_priv_o', 'far_comm_o', 'mrt_km_d', 'entro_d',\n",
    "       'cycle_km_d', 'far_hdb_d', 'far_priv_d', 'far_comm_d', \n",
    "        'ori_far_pc3', 'dst_far_pc2', 'od_far_pc1', 'od_far_pc2',\n",
    "       'od_far_pc3', 'dst_far_pc3','dst_far_pc1']\n",
    "for col in delcol:\n",
    "    del pca[col]\n",
    "pca.head()"
   ]
  },
  {
   "cell_type": "code",
   "execution_count": null,
   "metadata": {},
   "outputs": [],
   "source": [
    "pca=pca.set_index('ori').drop_duplicates()\n",
    "pca.head()"
   ]
  },
  {
   "cell_type": "code",
   "execution_count": null,
   "metadata": {},
   "outputs": [],
   "source": [
    "df=df.set_index('ori',drop=False)\n",
    "ndf=pd.concat([df,pca],join='inner',axis=1)\n",
    "ndf.head()"
   ]
  },
  {
   "cell_type": "code",
   "execution_count": null,
   "metadata": {},
   "outputs": [],
   "source": [
    "ndf.to_csv('elas_calc.csv')"
   ]
  },
  {
   "cell_type": "code",
   "execution_count": null,
   "metadata": {},
   "outputs": [],
   "source": [
    "ndf=ndf.set_index('cluster')\n",
    "c0=ndf.loc[0]\n",
    "c1=ndf.loc[1]\n",
    "c2=ndf.loc[2]\n",
    "c3=ndf.loc[3]\n"
   ]
  },
  {
   "cell_type": "code",
   "execution_count": null,
   "metadata": {},
   "outputs": [],
   "source": [
    "c0.to_csv('c0.csv')\n",
    "c1.to_csv('c1.csv')\n",
    "c2.to_csv('c2.csv')\n",
    "c3.to_csv('c3.csv')"
   ]
  },
  {
   "cell_type": "code",
   "execution_count": null,
   "metadata": {},
   "outputs": [],
   "source": [
    "ndf['trip'].describe()"
   ]
  },
  {
   "cell_type": "code",
   "execution_count": null,
   "metadata": {},
   "outputs": [],
   "source": [
    "下面把需求搞出来"
   ]
  },
  {
   "cell_type": "code",
   "execution_count": null,
   "metadata": {},
   "outputs": [],
   "source": [
    "sg=pd.read_csv('elas_calc.csv').set_index('ori')\n",
    "sg.head()"
   ]
  },
  {
   "cell_type": "code",
   "execution_count": null,
   "metadata": {},
   "outputs": [],
   "source": [
    "og=pd.read_csv('1.csv')\n",
    "og.head()"
   ]
  },
  {
   "cell_type": "code",
   "execution_count": null,
   "metadata": {},
   "outputs": [],
   "source": [
    "og.columns"
   ]
  },
  {
   "cell_type": "code",
   "execution_count": null,
   "metadata": {},
   "outputs": [],
   "source": [
    "delcol=['dist_km', 'fsize_m6_wd_pm',\n",
    "       'community_m6', 'mrt_km_o', 'entro_o', 'cycle_km_o', 'far_hdb_o',\n",
    "       'far_priv_o', 'far_comm_o', 'mrt_km_d', 'entro_d', 'cycle_km_d',\n",
    "       'far_hdb_d', 'far_priv_d', 'far_comm_d']\n",
    "for col in delcol:\n",
    "    del og[col]\n",
    "og.head()"
   ]
  },
  {
   "cell_type": "code",
   "execution_count": null,
   "metadata": {},
   "outputs": [],
   "source": [
    "arrival=og.groupby('dst').agg('sum')['trip_m6_wd_pm']"
   ]
  },
  {
   "cell_type": "code",
   "execution_count": null,
   "metadata": {},
   "outputs": [],
   "source": [
    "arrival.describe()"
   ]
  },
  {
   "cell_type": "code",
   "execution_count": null,
   "metadata": {},
   "outputs": [],
   "source": [
    "nsg=pd.concat([sg,arrival],axis=1,join='inner')"
   ]
  },
  {
   "cell_type": "code",
   "execution_count": null,
   "metadata": {},
   "outputs": [],
   "source": [
    "nsg.to_csv('elas_calc2.csv')"
   ]
  },
  {
   "cell_type": "code",
   "execution_count": null,
   "metadata": {},
   "outputs": [],
   "source": [
    "nsg.head()"
   ]
  },
  {
   "cell_type": "code",
   "execution_count": null,
   "metadata": {},
   "outputs": [],
   "source": [
    "nsg['supply']=0.5*nsg['trip_m6_wd_pm']+nsg['f_size']"
   ]
  },
  {
   "cell_type": "code",
   "execution_count": null,
   "metadata": {},
   "outputs": [],
   "source": [
    "nsg.columns"
   ]
  },
  {
   "cell_type": "code",
   "execution_count": null,
   "metadata": {},
   "outputs": [],
   "source": [
    "cols=['smooth_entro_o', 'ori_far_pc1', 'ori_far_pc2',\n",
    "'f_size','mrt_km_o', 'cycle_km_o']\n",
    "plt.style.use('bmh')\n",
    "for col in cols:\n",
    "    x=nsg[col]\n",
    "    y=nsg['supply']\n",
    "    xarray=range(int(x.describe()['min']),int(x.describe()['max']))\n",
    "    z=np.polyfit(x,y,3)\n",
    "    func=np.poly1d(z)\n",
    "    ypred=func(xarray)\n",
    "\n",
    "    z2=[]\n",
    "    z2.append(z[0]*3)\n",
    "    z2.append(z[1]*2)\n",
    "    z2.append(z[2])\n",
    "\n",
    "    yvals=[3*z2[0]*x**2+2*z2[1]*x+z2[2] for x in xarray]\n",
    "\n",
    "    plt.figure(dpi=200)\n",
    "    plt.style.use('bmh')\n",
    "    plt.plot(x,y,'co',markersize=3)\n",
    "    plt.plot(xarray,ypred,'b')\n",
    "    plt.plot(xarray,yvals,'orange')\n",
    "    plt.legend(('original_data', 'supply(Q)', 'diff_coeff'), loc='upper left') \n",
    "    plt.xlabel(col)\n",
    "    plt.ylabel(\"supply(Q)\")\n",
    "    # plt.xticks(np.arange(0,120,20))\n",
    "    # plt.yticks(np.arange(0,600,150))\n",
    "    # plt.rcParams['font.sans-serif']=['SimHei']\n",
    "    plt.title('supply(Q)-'+col)\n",
    "    plt.savefig('supply(Q)-'+col+'.jpg')\n",
    "    plt.show() \n",
    "\n"
   ]
  },
  {
   "cell_type": "code",
   "execution_count": null,
   "metadata": {},
   "outputs": [],
   "source": [
    "nsg=pd.read_csv('elas_calc2.csv')\n",
    "plt.style.use('bmh')\n",
    "col='cycle_km_o'\n",
    "x=nsg['supply']\n",
    "y=nsg['trip']\n",
    "xarray=np.arange(0,812,1)\n",
    "z=np.polyfit(x,y,2)\n",
    "func=np.poly1d(z)\n",
    "ypred=func(xarray)\n",
    "\n",
    "z2=[]\n",
    "z2.append(z[0]*2)\n",
    "z2.append(z[1])\n",
    "\n",
    "yvals=[2*z2[0]*x+z2[1] for x in xarray]\n",
    "\n",
    "plt.figure(dpi=200)\n",
    "plt.style.use('bmh')\n",
    "plt.plot(x,y,'co',markersize=3)\n",
    "plt.plot(xarray,ypred,'b')\n",
    "plt.plot(xarray,yvals,'orange')\n",
    "plt.legend(('original_data', 'supply(Q)', 'diff_coeff'), loc='upper left') \n",
    "plt.xlabel('supply(Q)')\n",
    "plt.ylabel(\"trip\")\n",
    "# plt.xticks(np.arange(0,120,20))\n",
    "# plt.yticks(np.arange(0,600,150))\n",
    "# plt.rcParams['font.sans-serif']=['SimHei']\n",
    "plt.title('trip-supply'+col)\n",
    "plt.savefig('trip-supply.jpg')\n",
    "plt.show() \n",
    "\n"
   ]
  },
  {
   "cell_type": "code",
   "execution_count": null,
   "metadata": {},
   "outputs": [],
   "source": [
    "z"
   ]
  },
  {
   "cell_type": "code",
   "execution_count": null,
   "metadata": {},
   "outputs": [],
   "source": [
    "z2"
   ]
  },
  {
   "cell_type": "code",
   "execution_count": null,
   "metadata": {},
   "outputs": [],
   "source": [
    "nsg.columns"
   ]
  },
  {
   "cell_type": "code",
   "execution_count": null,
   "metadata": {},
   "outputs": [],
   "source": [
    "nsg=nsg.sort_values(by='trip_m_wd_pm')\n",
    "trip=data['trip_m6_wd_pm']\n",
    "bins=[-0.1,0.5,5000]\n",
    "cut_res=pd.cut(trip,bins=bins,labels=[0,1])\n",
    "data['has_trip']=cut_res"
   ]
  },
  {
   "cell_type": "code",
   "execution_count": null,
   "metadata": {},
   "outputs": [],
   "source": [
    "nsg=pd.read_csv('elas_calc2.csv')"
   ]
  },
  {
   "cell_type": "code",
   "execution_count": null,
   "metadata": {},
   "outputs": [],
   "source": [
    "nsg.head(10)"
   ]
  },
  {
   "cell_type": "code",
   "execution_count": null,
   "metadata": {},
   "outputs": [],
   "source": [
    "for i in range(len(nsg)):\n",
    "    if nsg.loc[i]['f_size']*nsg.loc[i]['mrt_km_o']*nsg.loc[i]['cycle_km_o']*nsg.loc[i]['smooth_entro_o']*nsg.loc[i]['ori_far_pc1']*nsg.loc[i]['ori_far_pc2']*nsg.loc[i]['trip']==0:\n",
    "        nsg.drop(index=i,inplace=True)"
   ]
  },
  {
   "cell_type": "code",
   "execution_count": null,
   "metadata": {},
   "outputs": [],
   "source": [
    "from sklearn.model_selection import train_test_split #这里是引用了交叉验证\n",
    "from sklearn.linear_model import LinearRegression  #线性回归\n",
    " \n",
    "\n",
    "X =nsg[['f_size','mrt_km_o','cycle_km_o','smooth_entro_o','ori_far_pc1','ori_far_pc2']]\n",
    "y =nsg['trip']\n",
    "for col in X:\n",
    "    nsg[col]=np.log(nsg[col])\n",
    "X_train, X_test, y_train, y_test = train_test_split(X, y, test_size=0.2, random_state=1)#选择20%为测试集\n",
    "print('训练集测试及参数:')\n",
    "print('X_train.shape={}\\n y_train.shape ={}\\n X_test.shape={}\\n,  y_test.shape={}'.format(X_train.shape,\n",
    "                                                                                               y_train.shape,\n",
    "                                                                                               X_test.shape,\n",
    "                                                                                               y_test.shape))"
   ]
  },
  {
   "cell_type": "code",
   "execution_count": null,
   "metadata": {},
   "outputs": [],
   "source": [
    "X_train"
   ]
  },
  {
   "cell_type": "code",
   "execution_count": null,
   "metadata": {},
   "outputs": [],
   "source": [
    "\n",
    "linreg = LinearRegression()\n",
    "    #训练\n",
    "model = linreg.fit(X_train, y_train)\n",
    "print('模型参数:')\n",
    "print(model)\n",
    "    # 训练后模型截距\n",
    "    \n",
    "print('模型截距:')\n",
    "print(linreg.intercept_)\n",
    "    # 训练后模型权重（特征个数无变化）\n",
    "    \n",
    "print('参数权重:')\n",
    "print (linreg.coef_)\n",
    " \n",
    "y_pred = linreg.predict(X_test)\n"
   ]
  },
  {
   "cell_type": "code",
   "execution_count": null,
   "metadata": {},
   "outputs": [],
   "source": [
    "\n",
    "r2=r2_score(y_pred=y_pred,y_true=y_test)\n",
    "r2"
   ]
  },
  {
   "cell_type": "code",
   "execution_count": null,
   "metadata": {},
   "outputs": [],
   "source": [
    "plotcol=[ 'f_size', 'mrt_km_o',\n",
    "       'cycle_km_o', 'smooth_entro_o', 'ori_far_pc1', \n",
    "       'ori_far_pc2']\n",
    "for col in plotcol:\n",
    "\n",
    "    plt.style.use('bmh')\n",
    "    plt.figure(dpi=150)    \n",
    "    plt.title('demand_fit')\n",
    "    \n",
    "    plt.xlabel('X_test_'+col)\n",
    "    plt.ylabel('y_demand')\n",
    "    \n",
    "    plt.plot(X_test[col],y_test,'bo',X_test[col],y_pred,'co')\n",
    "    plt.legend(['true_val','pred_val'])\n",
    "    plt.savefig('demand'+col+'.jpg')\n",
    "\n",
    "\n",
    "\n",
    "# #创建图形\n",
    "# plt.figure(1)\n",
    "# '''\n",
    "# 意思是在一个2行2列共4个子图的图中，定位第1个图来进行操作（画图）。\n",
    "# 最后面那个1表示第1个子图。那个数字的变化来定位不同的子图\n",
    "# '''\n",
    "# #第一行第一列图形\n",
    "# ax1 = plt.subplot(2,2,1)\n",
    "# #第一行第二列图形\n",
    "# ax2 = plt.subplot(2,2,2)\n",
    "# #第二行\n",
    "# ax3 = plt.subplot(2,1,2)\n",
    "# #选择ax1\n",
    "# plt.sca(ax1)\n",
    "# #绘制红色曲线\n",
    "# plt.plot(x,y1,color='red')\n",
    "# #限制y坐标轴范围\n",
    "# plt.ylim(-1.2,1.2)\n",
    "# #选择ax2\n",
    "# plt.sca(ax2)\n",
    "# #绘制蓝色曲线\n",
    "# plt.plot(x,y2,'b--')\n",
    "# plt.ylim(-1.2,1.2)\n",
    "# #选择ax3\n",
    "# plt.sca(ax3)\n",
    "# plt.plot(x,y3,'g--')\n",
    "# plt.ylim(-1.2,1.2)\n",
    "# plt.show()\n",
    " \n"
   ]
  },
  {
   "cell_type": "code",
   "execution_count": null,
   "metadata": {},
   "outputs": [],
   "source": [
    "拟合效果上佳"
   ]
  }
 ],
 "metadata": {
  "interpreter": {
   "hash": "c4ba2975249f22329a2bfd4358de00082d7a2d8b97caacaf84290d52b0d66844"
  },
  "kernelspec": {
   "display_name": "Python 3.6.13 64-bit ('python36': conda)",
   "name": "python3"
  },
  "language_info": {
   "name": "python",
   "version": ""
  },
  "metadata": {
   "interpreter": {
    "hash": "c4ba2975249f22329a2bfd4358de00082d7a2d8b97caacaf84290d52b0d66844"
   }
  },
  "orig_nbformat": 2
 },
 "nbformat": 4,
 "nbformat_minor": 2
}
