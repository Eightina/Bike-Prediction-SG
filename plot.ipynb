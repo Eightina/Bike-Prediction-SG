{
 "cells": [
  {
   "cell_type": "code",
   "execution_count": null,
   "metadata": {},
   "outputs": [],
   "source": [
    "import matplotlib.pyplot as plt\n",
    "import numpy as np\n",
    "import pandas as pd\n",
    "import seaborn as sns\n",
    "\n",
    "from sklearn.ensemble import RandomForestRegressor\n",
    "from sklearn.metrics import mean_squared_error\n",
    "from sklearn.metrics import r2_score\n",
    "from sklearn.model_selection import train_test_split\n",
    "from sklearn.tree import DecisionTreeRegressor\n",
    "from sklearn.feature_selection import mutual_info_regression "
   ]
  },
  {
   "cell_type": "code",
   "execution_count": null,
   "metadata": {},
   "outputs": [],
   "source": [
    "df=pd.read_csv('1.csv')\n",
    "df.columns"
   ]
  },
  {
   "cell_type": "code",
   "execution_count": null,
   "metadata": {},
   "outputs": [],
   "source": [
    "df.describe()"
   ]
  },
  {
   "cell_type": "code",
   "execution_count": null,
   "metadata": {},
   "outputs": [],
   "source": [
    "df=df.sort_values('trip_m6_wd_pm')\n",
    "trip=df.trip_m6_wd_pm.values[int(241238*0.995):241238]\n",
    "x=range(int(241238*0.995),241238)\n",
    "\n",
    "plt.style.use('bmh')\n",
    "plt.figure(dpi=200)\n",
    "plt.title('trip_last_0.5%')\n",
    "plt.xlabel(\"order\")\n",
    "plt.ylabel(\"trip\")\n",
    "plt.plot(x,trip)\n",
    "plt.savefig('trip_last_0.5%.jpg')"
   ]
  },
  {
   "cell_type": "code",
   "execution_count": null,
   "metadata": {},
   "outputs": [],
   "source": [
    "# plt.style.use()\n",
    "plt.title('trip_distribution',loc='center')\n",
    "plt.figure(dpi=200)\n",
    "df.groupby('trip_m6_wd_pm')['trip_m6_wd_pm'].agg(['count']).plot()\n",
    "plt.savefig('trip_distribution.jpg')"
   ]
  },
  {
   "cell_type": "code",
   "execution_count": null,
   "metadata": {},
   "outputs": [],
   "source": [
    "df.groupby('trip_m6_wd_pm')['trip_m6_wd_pm'].describe()"
   ]
  },
  {
   "cell_type": "code",
   "execution_count": null,
   "metadata": {},
   "outputs": [],
   "source": [
    "sg=pd.read_csv('sg_map.csv')\n",
    "sg.head()"
   ]
  },
  {
   "cell_type": "code",
   "execution_count": null,
   "metadata": {},
   "outputs": [],
   "source": [
    "data1=pd.read_csv('1.csv')\n",
    "dist=data1['dist_km']\n",
    "\n",
    "bins=[-0.1,3.501,5000]\n",
    "cut_res=pd.cut(dist,bins=bins,labels=[0,1])\n",
    "\n",
    "data1['dist_01']=cut_res\n",
    "\n",
    "for col in data1.columns:\n",
    "    if col != 'dist_km' :\n",
    "        sns.boxplot(x='dist_01', y=col, saturation=0.5, palette='pastel', data=data1)\n",
    "        plt.title(col)\n",
    "        plt.show()"
   ]
  },
  {
   "cell_type": "code",
   "execution_count": null,
   "metadata": {},
   "outputs": [],
   "source": [
    "data1=pd.read_csv('1.csv')\n",
    "dist=data1['dist_km']\n",
    "\n",
    "bins=[-0.1,3.7,5000]\n",
    "cut_res=pd.cut(dist,bins=bins,labels=[0,1])\n",
    "\n",
    "data1['dist_01']=cut_res"
   ]
  },
  {
   "cell_type": "code",
   "execution_count": null,
   "metadata": {},
   "outputs": [],
   "source": [
    "data1.groupby('dist_01')['trip_m6_wd_pm'].describe()"
   ]
  },
  {
   "cell_type": "code",
   "execution_count": null,
   "metadata": {},
   "outputs": [],
   "source": [
    "sg=pd.read_csv('elas_calc.csv')\n",
    "sg.head()"
   ]
  },
  {
   "cell_type": "code",
   "execution_count": null,
   "metadata": {},
   "outputs": [],
   "source": [
    "sg.columns"
   ]
  },
  {
   "cell_type": "code",
   "execution_count": null,
   "metadata": {},
   "outputs": [],
   "source": [
    "delcol=['ori.1','cluster']\n",
    "for col in delcol:\n",
    "    del sg[col]"
   ]
  },
  {
   "cell_type": "code",
   "execution_count": null,
   "metadata": {},
   "outputs": [],
   "source": [
    "sg.head()"
   ]
  },
  {
   "cell_type": "code",
   "execution_count": null,
   "metadata": {},
   "outputs": [],
   "source": []
  }
 ],
 "metadata": {
  "kernelspec": {
   "display_name": "Python 3.6.13 64-bit ('pytorch_env': conda)",
   "name": "python3613jvsc74a57bd0dca4efdd400e53e6663797bbd1b46cf726b4dffb9a4cd6e80b88fc0d122f2781"
  },
  "language_info": {
   "codemirror_mode": {
    "name": "ipython",
    "version": 3
   },
   "file_extension": ".py",
   "mimetype": "text/x-python",
   "name": "python",
   "nbconvert_exporter": "python",
   "pygments_lexer": "ipython3",
   "version": "3.6.13"
  },
  "orig_nbformat": 2
 },
 "nbformat": 4,
 "nbformat_minor": 2
}
