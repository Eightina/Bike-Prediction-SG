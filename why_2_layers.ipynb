{
 "cells": [
  {
   "cell_type": "markdown",
   "metadata": {},
   "source": [
    "准备测试数据"
   ]
  },
  {
   "cell_type": "code",
   "execution_count": null,
   "metadata": {},
   "outputs": [],
   "source": [
    "import matplotlib.pyplot as plt\n",
    "import numpy as np\n",
    "import pandas as pd\n",
    "import seaborn as sns\n",
    "\n",
    "from sklearn.ensemble import RandomForestRegressor\n",
    "from sklearn.metrics import mean_squared_error\n",
    "from sklearn.metrics import r2_score\n",
    "from sklearn.model_selection import train_test_split\n",
    "from sklearn.tree import DecisionTreeRegressor\n"
   ]
  },
  {
   "cell_type": "code",
   "execution_count": null,
   "metadata": {},
   "outputs": [],
   "source": [
    "entro_data=pd.read_csv('smooth_entro.csv')\n",
    "lonal_data=pd.read_csv('apply_lonal.csv')\n"
   ]
  },
  {
   "cell_type": "code",
   "execution_count": null,
   "metadata": {},
   "outputs": [],
   "source": [
    "entro_data.head()"
   ]
  },
  {
   "cell_type": "code",
   "execution_count": null,
   "metadata": {},
   "outputs": [],
   "source": [
    "lonal_data.head()"
   ]
  },
  {
   "cell_type": "code",
   "execution_count": null,
   "metadata": {},
   "outputs": [],
   "source": [
    "df=pd.concat([entro_data,lonal_data],axis=1,join='inner')\n",
    "df=df.T.drop_duplicates().T\n",
    "df.describe()"
   ]
  },
  {
   "cell_type": "code",
   "execution_count": null,
   "metadata": {},
   "outputs": [],
   "source": [
    "df.to_csv('lonal_entro.csv')"
   ]
  },
  {
   "cell_type": "markdown",
   "metadata": {},
   "source": [
    "完毕，测试数据`lonal_entro.csv`"
   ]
  },
  {
   "cell_type": "code",
   "execution_count": null,
   "metadata": {},
   "outputs": [],
   "source": [
    "df=pd.read_csv('lonal_entro.csv')\n",
    "df.describe()"
   ]
  },
  {
   "cell_type": "code",
   "execution_count": null,
   "metadata": {},
   "outputs": [],
   "source": [
    "df.columns\n"
   ]
  },
  {
   "cell_type": "code",
   "execution_count": null,
   "metadata": {},
   "outputs": [],
   "source": [
    "准备尝试三种方案\n",
    "1. 原数据对trip回归\n",
    "2. 逻辑回归/决策树回归+回归，0-1矩阵乘以二次预测结果，从而同时预测od的发生和trip数量\n",
    "3. 两次回归，矩阵相乘。\n",
    "预测完成后，通过trip推算投送量"
   ]
  },
  {
   "cell_type": "markdown",
   "metadata": {},
   "source": [
    "先尝试对od对进行0-1预测"
   ]
  },
  {
   "cell_type": "code",
   "execution_count": null,
   "metadata": {},
   "outputs": [],
   "source": []
  },
  {
   "cell_type": "code",
   "execution_count": null,
   "metadata": {},
   "outputs": [],
   "source": [
    "data=pd.read_csv('lonal_entro.csv')\n",
    "model_1=RandomForestRegressor(random_state=1)\n",
    "model_2a=RandomForestRegressor(random_state=1)\n",
    "model_2b=RandomForestRegressor(random_state=1)\n",
    "\n"
   ]
  },
  {
   "cell_type": "code",
   "execution_count": null,
   "metadata": {},
   "outputs": [],
   "source": [
    "datax=pd.read_csv('0_removed.csv')\n",
    "trip=datax['trip_m6_wd_pm']\n",
    "bins=[-0.1,0.5,5000]\n",
    "cut_res=pd.cut(trip,bins=bins,labels=[0,1])\n",
    "data['has_trip']=cut_res\n",
    "data.to_csv('lonal_entro.csv')"
   ]
  },
  {
   "cell_type": "code",
   "execution_count": null,
   "metadata": {},
   "outputs": [],
   "source": [
    "data.columns"
   ]
  },
  {
   "cell_type": "code",
   "execution_count": null,
   "metadata": {},
   "outputs": [],
   "source": [
    "ycol='has_trip'\n",
    "xcol=[ 'ori', 'dst','dist_km','fsize_m6_wd_pm','community_m6','mrt_km_o',\n",
    "'far_hdb_o', 'far_priv_o', 'far_comm_o', 'mrt_km_d',\n",
    "'far_hdb_d', 'far_priv_d', 'far_comm_d', 'smooth_entro_o',\n",
    "       'smooth_entro_d','ori_lat', 'ori_lon', 'dst_lat', 'dst_lon',]"
   ]
  },
  {
   "cell_type": "code",
   "execution_count": null,
   "metadata": {},
   "outputs": [],
   "source": [
    "y=data[ycol]\n",
    "X=data[xcol]\n",
    "X_train,X_test,y_train,y_test = train_test_split(X,y,test_size=0.3)\n",
    "model_2a.fit(X=X_train,y=y_train)\n"
   ]
  },
  {
   "cell_type": "code",
   "execution_count": null,
   "metadata": {},
   "outputs": [],
   "source": [
    "od01_pred=model_2a.predict(X_test)\n",
    "r2=r2_score(y_pred=od01_pred,y_true=y_test)\n",
    "r2\n"
   ]
  },
  {
   "cell_type": "code",
   "execution_count": null,
   "metadata": {},
   "outputs": [],
   "source": [
    "loss=mean_squared_error(y_pred=od01_pred,y_true=y_test)\n",
    "loss"
   ]
  },
  {
   "cell_type": "code",
   "execution_count": null,
   "metadata": {},
   "outputs": [],
   "source": [
    "可以发现，随机森林能够非常好地对发生出行的od对进行预测\n",
    "再尝试直接对需求进行预测"
   ]
  },
  {
   "cell_type": "code",
   "execution_count": null,
   "metadata": {},
   "outputs": [],
   "source": [
    "ycol1='trip_m6_wd_pm'\n",
    "xcol1=[ 'ori', 'dst','dist_km','fsize_m6_wd_pm','community_m6','mrt_km_o',\n",
    "'far_hdb_o', 'far_priv_o', 'far_comm_o', 'mrt_km_d',\n",
    "'far_hdb_d', 'far_priv_d', 'far_comm_d', 'smooth_entro_o',\n",
    "       'smooth_entro_d']\n",
    "y1=data[ycol1]\n",
    "X1=data[xcol1]\n",
    "X_train1,X_test1,y_train1,y_test1 = train_test_split(X1,y1,test_size=0.3)\n",
    "\n",
    "\n"
   ]
  },
  {
   "cell_type": "code",
   "execution_count": null,
   "metadata": {},
   "outputs": [],
   "source": [
    "model_1.fit(X=X_train1,y=y_train1)"
   ]
  },
  {
   "cell_type": "code",
   "execution_count": null,
   "metadata": {},
   "outputs": [],
   "source": [
    "trip_pred=model_1.predict(X_test1)\n",
    "r2=r2_score(y_pred=trip_pred,y_true=y_test1)\n",
    "r2"
   ]
  },
  {
   "cell_type": "code",
   "execution_count": null,
   "metadata": {},
   "outputs": [],
   "source": [
    "loss2=mean_squared_error(y_pred=trip_pred,y_true=y_test1)\n",
    "loss2"
   ]
  },
  {
   "cell_type": "markdown",
   "metadata": {},
   "source": [
    "r2在0.5左右，效果一般。下面使用双层来预测。\n",
    "model_2a:0-1\n",
    "model_1:trip"
   ]
  },
  {
   "cell_type": "code",
   "execution_count": null,
   "metadata": {},
   "outputs": [],
   "source": [
    "model_2a.predict"
   ]
  },
  {
   "cell_type": "code",
   "execution_count": null,
   "metadata": {},
   "outputs": [],
   "source": [
    "double_lay_pred=od01_pred*trip_pred"
   ]
  },
  {
   "cell_type": "code",
   "execution_count": null,
   "metadata": {},
   "outputs": [],
   "source": []
  },
  {
   "cell_type": "code",
   "execution_count": null,
   "metadata": {},
   "outputs": [],
   "source": [
    "应该尝试为两层预测分别选择不同的合适的特征，而不是一股脑全丢进去"
   ]
  }
 ],
 "metadata": {
  "kernelspec": {
   "display_name": "Python 3.6.13 64-bit ('pytorch_env': conda)",
   "name": "python3613jvsc74a57bd0dca4efdd400e53e6663797bbd1b46cf726b4dffb9a4cd6e80b88fc0d122f2781"
  },
  "language_info": {
   "codemirror_mode": {
    "name": "ipython",
    "version": 3
   },
   "file_extension": ".py",
   "mimetype": "text/x-python",
   "name": "python",
   "nbconvert_exporter": "python",
   "pygments_lexer": "ipython3",
   "version": "3.6.13"
  },
  "orig_nbformat": 2
 },
 "nbformat": 4,
 "nbformat_minor": 2
}
