{
 "cells": [
  {
   "cell_type": "code",
   "execution_count": null,
   "metadata": {},
   "outputs": [],
   "source": [
    "\n",
    "import pandas as pd\n",
    "import math\n",
    "import time\n",
    "from alive_progress import alive_bar\n",
    "import numpy\n",
    "shapefile = pd.read_csv('sg_map.csv')\n",
    "shapefile.set_index('id')\n",
    "good0_data = pd.read_csv('1.csv').head(200)\n",
    "\n",
    "\n",
    "def distance(id1, id2):\n",
    "    Lat_A = shapefile.loc[id1]['Lat']\n",
    "    Lon_A = shapefile.loc[id1]['Lon']\n",
    "    Lat_B = shapefile.loc[id2]['Lat']\n",
    "    Lon_B = shapefile.loc[id2]['Lon']\n",
    "    C = math.sin(Lat_A)*math.sin(Lat_B)*math.cos(Lon_A-Lon_B) + \\\n",
    "        math.cos(Lat_A)*math.cos(Lat_B)\n",
    "    return 6371.004*math.acos(C)*math.pi/180\n",
    "\n",
    "\n",
    "full = len(good0_data)\n",
    "\n",
    "# with alive_bar(len(good0_data)) as bar:\n",
    "#     for i in range(len(good0_data)):\n",
    "#         try:\n",
    "#             if good0_data.loc[i]['trip_m6_wd_pm']==0:\n",
    "#                 id1=good0_data.loc[i]['ori']\n",
    "#                 id2=good0_data.loc[i]['dst']\n",
    "#                 dis=distance(id1,id2)\n",
    "#                 print(dis)\n",
    "#                 if dis>=3.5:\n",
    "#                     good0_data=good0_data.drop([i])\n",
    "#         except:\n",
    "#             continue\n",
    "#         bar()\n",
    "\n",
    "processed=pd.DataFrame(columns=('ori','dst','dist_km','fsize_m6_wd_pm','trip_m6_wd_pm',\n",
    "                                'community_m6','mrt_km_o','entro_o','cycle_km_o',\n",
    "                                'far_hdb_o','far_priv_o','far_comm_o','mrt_km_d',\n",
    "                                'entro_d','cycle_km_d','far_hdb_d','far_priv_d','far_comm_d'))\n",
    "zeros=numpy.zeros(full)\n",
    "limit=numpy.array([3.5 for i in range(full)])\n",
    "print(type(limit), type(zeros))\n",
    "# for row in good0_data:\n",
    "#     if row['trip_m6_wd_pm'] == 0 and row['dist_km']>=3.5\n",
    "    \n",
    "def drop_0row(i,trip,dis):\n",
    "    print(type(i),type(trip),type(dis))\n",
    "    tar1=trip==zeros\n",
    "    tar2=dis>=limit\n",
    "    return tar1,tar2\n",
    "def func(ta1,tar2,processed):\n",
    "    with alive_bar(len(good0_data)) as bar:\n",
    "        for x in range(len(tar1)):\n",
    "            if tar1[x] and tar2[x]:\n",
    "                print(tar1[x],tar2[x])\n",
    "                pass\n",
    "            else:\n",
    "                processed=processed.append(good0_data.iloc[x])\n",
    "            bar()\n",
    "    \n",
    "    \n",
    "tar1,tar2=drop_0row(range(len(good0_data)),good0_data['trip_m6_wd_pm'].values,good0_data['dist_km'].values)\n",
    "\n",
    "func(tar1,tar2,processed)\n",
    "# with alive_bar(len(good0_data)) as bar:\n",
    "#     for i in range(len(good0_data)):\n",
    "#         row = good0_data.iloc[i]\n",
    "#         if row['trip_m6_wd_pm'] == 0:\n",
    "#             dis = row['dist_km']\n",
    "#             if dis >= 3.5:\n",
    "#                 good0_data.drop([i],inplace=True)\n",
    "#         bar()\n",
    "\n",
    "processed.to_csv(path_or_buf='0_removed.csv')\n"
   ]
  },
  {
   "cell_type": "code",
   "execution_count": null,
   "metadata": {},
   "outputs": [],
   "source": [
    "good0_data.drop(1)"
   ]
  },
  {
   "cell_type": "code",
   "execution_count": null,
   "metadata": {},
   "outputs": [],
   "source": [
    "good0_data"
   ]
  },
  {
   "cell_type": "code",
   "execution_count": null,
   "metadata": {},
   "outputs": [],
   "source": [
    "xx=numpy.array([0,1,2])\n",
    "\n",
    "good0_data.loc[xx]"
   ]
  },
  {
   "cell_type": "code",
   "execution_count": null,
   "metadata": {},
   "outputs": [],
   "source": [
    "xx"
   ]
  },
  {
   "cell_type": "code",
   "execution_count": null,
   "metadata": {},
   "outputs": [],
   "source": [
    "index=numpy.array([3,8,1])\n",
    "xx=index[index>5]\n",
    "good0_data.loc[xx]"
   ]
  },
  {
   "cell_type": "code",
   "execution_count": null,
   "metadata": {},
   "outputs": [],
   "source": [
    "'''\n",
    "Filename: c:\\python\\bike_prediciton\\margin_effect.py\n",
    "Path: c:\\python\\bike_prediciton\n",
    "Created Date: Thursday, May 20th 2021, 4:23:56 pm\n",
    "Author: SEELE a317\n",
    "\n",
    "Copyright (c) 2021 625,7,Youyuan,TongjiUniversity \n",
    "'''\n",
    "\n",
    "import pandas as pd\n",
    "import torch\n",
    "from matplotlib import pyplot as plt\n",
    "import seaborn as sns\n",
    "\n",
    "\n",
    "\n",
    "n_data = pd.read_csv('new_data.csv')\n",
    "\n",
    "n_data=n_data[n_data['trip']!=0]\n",
    "\n",
    "trip = n_data['trip']\n",
    "f_size = n_data['f_size']\n",
    "\n",
    "cal = []\n",
    "\n",
    "\n",
    "\n",
    "for i in range(len(n_data)):\n",
    "    cal.append(trip.iloc[i]/f_size.iloc[i])\n",
    "\n",
    "\n",
    "sns.lmplot(x=\"f_size\", y=\"trip\", data=n_data)\n"
   ]
  },
  {
   "cell_type": "code",
   "execution_count": null,
   "metadata": {},
   "outputs": [],
   "source": [
    "og_data=pd.read_csv('0_removed.csv')\n",
    "og_data.iloc[0]['ori']"
   ]
  },
  {
   "cell_type": "code",
   "execution_count": null,
   "metadata": {},
   "outputs": [],
   "source": [
    "good0_data=pd.read_csv('0_removed.csv')"
   ]
  },
  {
   "cell_type": "code",
   "execution_count": null,
   "metadata": {},
   "outputs": [],
   "source": [
    "colums=['ori']"
   ]
  },
  {
   "cell_type": "code",
   "execution_count": null,
   "metadata": {},
   "outputs": [],
   "source": [
    "type(good0_data[colums])"
   ]
  },
  {
   "cell_type": "code",
   "execution_count": null,
   "metadata": {},
   "outputs": [],
   "source": [
    "import os\n",
    "os.environ[\"KMP_DUPLICATE_LIB_OK\"]=\"TRUE\"\n",
    "import pandas as pd\n",
    "import torch\n",
    "from matplotlib import pyplot as plt\n",
    "import seaborn as sns\n",
    "from sklearn.model_selection import train_test_split\n",
    "\n",
    "\n",
    "columns=['ori','dst','dist_km','fsize_m6_wd_pm','trip_m6_wd_pm',\n",
    "                                'community_m6','mrt_km_o','entro_o','cycle_km_o',\n",
    "                                'far_hdb_o','far_priv_o','far_comm_o','mrt_km_d',\n",
    "                                'entro_d','cycle_km_d','far_hdb_d','far_priv_d','far_comm_d']\n",
    "\n",
    "good0_data=pd.read_csv('0_removed.csv')\n",
    "y=good0_data['trip_m6_wd_pm']\n",
    "columns.remove('trip_m6_wd_pm')\n",
    "X=good0_data[columns]\n",
    "\n",
    "X_train,X_test,y_train,y_test = train_test_split(X,y,test_size=0.1)\n",
    "\n",
    "good0_data=pd.concat([X_test,y_test],axis=1)"
   ]
  },
  {
   "cell_type": "code",
   "execution_count": null,
   "metadata": {},
   "outputs": [],
   "source": [
    "good0_data"
   ]
  },
  {
   "cell_type": "code",
   "execution_count": null,
   "metadata": {},
   "outputs": [],
   "source": [
    "'''\n",
    "Filename: c:\\python\\bike_prediciton\\margin_effect.py\n",
    "Path: c:\\python\\bike_prediciton\n",
    "Created Date: Thursday, May 20th 2021, 4:23:56 pm\n",
    "Author: SEELE a317\n",
    "\n",
    "Copyright (c) 2021 625, 7, Youyuan\n",
    "'''\n",
    "import os\n",
    "os.environ[\"KMP_DUPLICATE_LIB_OK\"]=\"TRUE\"\n",
    "import pandas as pd\n",
    "import torch\n",
    "import numpy as np\n",
    "from matplotlib import pyplot as plt\n",
    "import seaborn as sns\n",
    "from sklearn.model_selection import train_test_split\n",
    "\n",
    "\n",
    "\n",
    "n_data = pd.read_csv('new_data.csv')\n",
    "\n",
    "n_data=n_data[n_data['trip']!=0]\n",
    "\n",
    "trip = n_data['trip']\n",
    "f_size = n_data['f_size']\n",
    "\n",
    "cal = []\n",
    "\n",
    "columns=['ori','dst','dist_km','fsize_m6_wd_pm','trip_m6_wd_pm',\n",
    "                                'community_m6','mrt_km_o','entro_o','cycle_km_o',\n",
    "                                'far_hdb_o','far_priv_o','far_comm_o','mrt_km_d',\n",
    "                                'entro_d','cycle_km_d','far_hdb_d','far_priv_d','far_comm_d']\n",
    "\n",
    "\n",
    "# sns.lmplot(x=\"f_size\", y=\"trip\", data=n_data)\n",
    "\n",
    "# for i in range(len(n_data)):\n",
    "#     cal.append(trip.iloc[i]/f_size.iloc[i])\n",
    "# plt.plot(cal, f_size, 'ro')\n",
    "# plt.show()\n",
    "\n",
    "def avg_cost():\n",
    "    good0_data=pd.read_csv('0_removed.csv')\n",
    "    \n",
    "    y=good0_data['trip_m6_wd_pm']\n",
    "    columns.remove('trip_m6_wd_pm')\n",
    "    X=good0_data[columns]\n",
    "    X_train,X_test,y_train,y_test = train_test_split(X,y,test_size=0.3)\n",
    "    good0_data=pd.concat([X_test,y_test],axis=1)\n",
    "    \n",
    "    trip2 = good0_data['trip_m6_wd_pm']\n",
    "    f_size2 = good0_data['fsize_m6_wd_pm']\n",
    "    for i in range(len(good0_data)):\n",
    "        cal.append(trip2.iloc[i]/f_size2.iloc[i])\n",
    "    cal_dic={'cal':cal}\n",
    "    cal=pd.DataFrame(cal_dic)\n",
    "    good0_data=pd.concat([good0_data,cal],axis=1)\n",
    "    sns.lmplot(x=\"fsize_m6_wd_pm\", y='cal', data=good0_data, hue='community_m6')\n",
    "\n",
    "\n",
    "good0_data=pd.read_csv('0_removed.csv').sort_values('fsize_m6_wd_pm')\n",
    "    \n",
    "y=good0_data['trip_m6_wd_pm']\n",
    "columns.remove('trip_m6_wd_pm')\n",
    "X=good0_data[columns]\n",
    "X_train,X_test,y_train,y_test = train_test_split(X,y,test_size=0.9)\n",
    "good0_data=pd.concat([X_test,y_test],axis=1)\n",
    "    \n",
    "good0_data=good0_data.sort_values('fsize_m6_wd_pm')\n",
    "    \n",
    "f_size=good0_data['fsize_m6_wd_pm'].values\n",
    "trip=good0_data['trip_m6_wd_pm'].values\n",
    "mr=[0]\n",
    "index=[0]\n",
    "tripx=[0]\n",
    "sizex=[0]\n",
    "avg_trip=[0]\n",
    "cnt=1\n",
    "trip_sum=trip[0]\n",
    "for i in range(1,len(f_size)):\n",
    "    if f_size[i]==f_size[i-1]:\n",
    "        trip_sum+=trip[i]\n",
    "        # if trip[i]>=trip_sum:\n",
    "        #     trip_sum=trip[i]\n",
    "        cnt+=1\n",
    "    else:\n",
    "        avg_trip.append(trip_sum/cnt)\n",
    "        index.append(i) \n",
    "        mr.append((avg_trip[-1]-avg_trip[-2])/(f_size[i]-f_size[i-1]))\n",
    "        tripx.append(trip[i])\n",
    "        sizex.append(f_size[i])\n",
    "        cnt=1\n",
    "        trip_sum=0\n",
    "\n",
    "#     else mr.append(np.nan)\n",
    "# mr.append(np.non)\n",
    "# index.append(0)"
   ]
  },
  {
   "cell_type": "code",
   "execution_count": null,
   "metadata": {},
   "outputs": [],
   "source": [
    "datax={'mr':mr,'avg_trip':avg_trip,'sizex':sizex}\n",
    "datax=pd.DataFrame(datax)\n",
    "# good0_data=pd.concat([good0_data,mr],axis=1)\n",
    "sns.lmplot(x='sizex', y='mr', data=datax)"
   ]
  },
  {
   "cell_type": "code",
   "execution_count": null,
   "metadata": {},
   "outputs": [],
   "source": [
    "len(mr)\n"
   ]
  },
  {
   "cell_type": "code",
   "execution_count": null,
   "metadata": {},
   "outputs": [],
   "source": [
    "len(sizex)"
   ]
  },
  {
   "cell_type": "code",
   "execution_count": null,
   "metadata": {},
   "outputs": [],
   "source": [
    "range(5)-range(2)"
   ]
  },
  {
   "cell_type": "code",
   "execution_count": null,
   "metadata": {},
   "outputs": [],
   "source": [
    "a=[1,2,3,4]"
   ]
  },
  {
   "cell_type": "code",
   "execution_count": null,
   "metadata": {},
   "outputs": [],
   "source": [
    "a.append(a)"
   ]
  },
  {
   "cell_type": "code",
   "execution_count": null,
   "metadata": {},
   "outputs": [],
   "source": [
    "a"
   ]
  },
  {
   "cell_type": "code",
   "execution_count": null,
   "metadata": {},
   "outputs": [],
   "source": [
    "import pandas as pd\n",
    "import numpy as np\n",
    "company=[\"A\",\"B\",\"C\"]\n",
    "data=pd.DataFrame({\"company\":[company[x] for x in np.random.randint(0,len(company),10)],\n",
    "    \"salary\":np.random.randint(5,50,10),\n",
    "    \"age\":np.random.randint(15,50,10)})\n",
    "data"
   ]
  },
  {
   "cell_type": "code",
   "execution_count": null,
   "metadata": {},
   "outputs": [],
   "source": [
    "group = pd.cut(data['age'],bins=4,labels=['a','b','c','d'])"
   ]
  },
  {
   "cell_type": "code",
   "execution_count": null,
   "metadata": {},
   "outputs": [],
   "source": [
    "list(group)"
   ]
  },
  {
   "cell_type": "code",
   "execution_count": null,
   "metadata": {},
   "outputs": [],
   "source": [
    "group"
   ]
  },
  {
   "cell_type": "code",
   "execution_count": null,
   "metadata": {},
   "outputs": [],
   "source": []
  }
 ],
 "metadata": {
  "kernelspec": {
   "display_name": "Python 3.6.13 64-bit ('pytorch_env': conda)",
   "name": "python3613jvsc74a57bd0dca4efdd400e53e6663797bbd1b46cf726b4dffb9a4cd6e80b88fc0d122f2781"
  },
  "language_info": {
   "codemirror_mode": {
    "name": "ipython",
    "version": 3
   },
   "file_extension": ".py",
   "mimetype": "text/x-python",
   "name": "python",
   "nbconvert_exporter": "python",
   "pygments_lexer": "ipython3",
   "version": "3.6.13"
  },
  "orig_nbformat": 2
 },
 "nbformat": 4,
 "nbformat_minor": 2
}
