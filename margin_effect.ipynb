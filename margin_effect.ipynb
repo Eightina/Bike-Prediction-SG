{
 "cells": [
  {
   "cell_type": "code",
   "execution_count": null,
   "metadata": {},
   "outputs": [],
   "source": [
    "'''\n",
    "Filename: c:\\python\\bike_prediciton\\preprocessor.py\n",
    "Path: c:\\python\\bike_prediciton\n",
    "Created Date: Thursday, May 20th 2021, 8:54:45 am\n",
    "Author: SEELE a317\n",
    "\n",
    "Copyright (c) 2021 625, 7, Youyuan\n",
    "'''\n",
    "import pandas as pd\n",
    "from alive_progress import alive_bar\n",
    "\n",
    "og_data=pd.read_csv('0_removed.csv')\n",
    "\n",
    "\n",
    "og_data=og_data.sort_values(by='ori')\n",
    "og_datax=og_data\n",
    "use_cnt={}\n",
    "with alive_bar(len(og_datax)) as bar:\n",
    "    for i in range(len(og_datax)):\n",
    "        row=og_datax.iloc[i]\n",
    "        if not use_cnt.get(row['ori']):\n",
    "            use_cnt[row['ori']]=[row['trip_m6_wd_pm'],row['fsize_m6_wd_pm']]\n",
    "        else:\n",
    "            use_cnt[row['ori']][0]+=row['trip_m6_wd_pm']\n",
    "        bar()\n",
    "\n",
    "# og_data=og_data.sort_values(by='dst')\n",
    "# og_datay=og_data\n",
    "# arrival_cnt={}\n",
    "\n",
    "# with alive_bar(len(og_datay)) as bar:\n",
    "#     for i in range(len(og_datay)):\n",
    "#         row=og_datay.iloc[i]\n",
    "#         if not arrival_cnt.get(row[1]):\n",
    "#             arrival_cnt[row[1]]=[row[4],row[3]]\n",
    "#         else:\n",
    "#             use_cnt[row[0]][0]+=row[4]\n",
    "#             bar()\n",
    "\n",
    "new_data={'ori':[],'trip':[],'f_size':[]}\n",
    "with alive_bar(len(use_cnt)) as bar:\n",
    "    for ori in use_cnt:\n",
    "        new_data['ori'].append(ori)\n",
    "        new_data['trip'].append(use_cnt[ori][0])\n",
    "        new_data['f_size'].append(use_cnt[ori][1])\n",
    "        bar()\n",
    "        \n",
    "n_data=pd.DataFrame(new_data).sort_values(by='ori')\n",
    "\n",
    "n_data.to_csv(path_or_buf='new_data.csv')\n",
    "\n"
   ]
  },
  {
   "cell_type": "code",
   "execution_count": null,
   "metadata": {},
   "outputs": [],
   "source": [
    "import pandas as pd\n",
    "n_data=pd.read_csv('c2.csv')\n",
    "x=n_data['f_size']\n",
    "y=n_data['trip']"
   ]
  },
  {
   "cell_type": "code",
   "execution_count": null,
   "metadata": {},
   "outputs": [],
   "source": [
    "xarray=x.values\n",
    "yarray=y.values"
   ]
  },
  {
   "cell_type": "code",
   "execution_count": null,
   "metadata": {},
   "outputs": [],
   "source": [
    "import numpy as np\n",
    "from matplotlib import pyplot as plt"
   ]
  },
  {
   "cell_type": "code",
   "execution_count": null,
   "metadata": {},
   "outputs": [],
   "source": [
    "x.describe()"
   ]
  },
  {
   "cell_type": "code",
   "execution_count": null,
   "metadata": {},
   "outputs": [],
   "source": [
    "y.describe()"
   ]
  },
  {
   "cell_type": "code",
   "execution_count": null,
   "metadata": {},
   "outputs": [],
   "source": [
    "plotx=np.arange(0,113,1)\n",
    "z=np.polyfit(xarray,yarray,2)\n",
    "\n",
    "p1=np.poly1d(z)\n",
    "yvals=p1(plotx)\n",
    "\n",
    "z2=[]\n",
    "z2.append(z[0])\n",
    "z2.append(z[1])\n",
    "\n",
    "\n",
    "z2[0]=z[0]*2\n",
    "\n",
    "\n",
    "def f(x):\n",
    "    return z2[0]*x+z2[1]\n",
    "yvals2=list(map(f,plotx))\n"
   ]
  },
  {
   "cell_type": "code",
   "execution_count": null,
   "metadata": {},
   "outputs": [],
   "source": [
    "plt.figure(dpi=200)\n",
    "plt.style.use('bmh')\n",
    "plt.plot(xarray,yarray,'co',markersize=3)\n",
    "plt.plot(plotx,yvals,'b')\n",
    "plt.plot(plotx,yvals2,'orange')\n",
    "plt.legend(('original_data', 'fit_function(TR)', 'margin_revenue(MR)'), loc='upper left') \n",
    "plt.xlabel(\"f_size(Q)\")\n",
    "plt.ylabel(\"ori_trip(TR)\")\n",
    "plt.xticks(np.arange(0,120,20))\n",
    "plt.yticks(np.arange(0,600,150))\n",
    "plt.rcParams['font.sans-serif']=['SimHei']\n",
    "plt.title('ME_CLUSTER_2')\n",
    "plt.savefig('MR2.jpg')\n",
    "plt.show() "
   ]
  },
  {
   "cell_type": "code",
   "execution_count": null,
   "metadata": {},
   "outputs": [],
   "source": [
    "'y1='+str(z[0])+'x^2+'+str(z[1])+'x+'+str(z[2])\n",
    "\n"
   ]
  },
  {
   "cell_type": "code",
   "execution_count": null,
   "metadata": {},
   "outputs": [],
   "source": [
    "'y2='+str(z2[0])+'x+'+str(z2[1])"
   ]
  },
  {
   "cell_type": "code",
   "execution_count": null,
   "metadata": {},
   "outputs": [],
   "source": [
    "from sklearn.metrics import r2_score\n",
    "def r2(xarray,yarray):\n",
    "    yreg=p1(xarray)\n",
    "    return 'r2_score:'+str(r2_score(yarray,yreg))\n",
    "r2(xarray,yarray)"
   ]
  },
  {
   "cell_type": "code",
   "execution_count": null,
   "metadata": {},
   "outputs": [],
   "source": []
  }
 ],
 "metadata": {
  "kernelspec": {
   "display_name": "Python 3.6.13 64-bit ('pytorch_env': conda)",
   "name": "python3613jvsc74a57bd0dca4efdd400e53e6663797bbd1b46cf726b4dffb9a4cd6e80b88fc0d122f2781"
  },
  "language_info": {
   "codemirror_mode": {
    "name": "ipython",
    "version": 3
   },
   "file_extension": ".py",
   "mimetype": "text/x-python",
   "name": "python",
   "nbconvert_exporter": "python",
   "pygments_lexer": "ipython3",
   "version": "3.6.13"
  },
  "orig_nbformat": 2
 },
 "nbformat": 4,
 "nbformat_minor": 2
}
