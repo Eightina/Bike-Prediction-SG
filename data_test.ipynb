{
 "cells": [
  {
   "cell_type": "code",
   "execution_count": null,
   "metadata": {},
   "outputs": [],
   "source": [
    "import pandas as pd\n",
    "import torch\n",
    "from matplotlib import pyplot as plt\n"
   ]
  },
  {
   "cell_type": "code",
   "execution_count": null,
   "metadata": {},
   "outputs": [],
   "source": [
    "og_data=pd.read_csv('1.csv')\n",
    "og_data.head()\n",
    "\n"
   ]
  },
  {
   "cell_type": "code",
   "execution_count": null,
   "metadata": {},
   "outputs": [],
   "source": [
    "og_data=og_data.sort_values(by='ori')\n",
    "og_data.loc[0][0]\n",
    "og_datax=og_data.head(200)\n",
    "og_datax\n"
   ]
  },
  {
   "cell_type": "code",
   "execution_count": null,
   "metadata": {},
   "outputs": [],
   "source": [
    "\n",
    "use_cnt={}\n",
    "for i in range(len(og_datax)):\n",
    "    row=og_datax.iloc[i]\n",
    "    if not use_cnt.get(row[0]):\n",
    "        use_cnt[row[0]]=[row[4],row[3]]\n",
    "    else:\n",
    "        use_cnt[row[0]][0]+=row[4]"
   ]
  },
  {
   "cell_type": "code",
   "execution_count": null,
   "metadata": {},
   "outputs": [],
   "source": [
    "use_cnt"
   ]
  },
  {
   "cell_type": "code",
   "execution_count": null,
   "metadata": {},
   "outputs": [],
   "source": [
    "new_data={'ori':[],'trip':[],'f_size':[]}\n",
    "for ori in use_cnt:\n",
    "    new_data['ori'].append(ori)\n",
    "    new_data['trip'].append(use_cnt[ori][0])\n",
    "    new_data['f_size'].append(use_cnt[ori][1])"
   ]
  },
  {
   "cell_type": "code",
   "execution_count": null,
   "metadata": {},
   "outputs": [],
   "source": [
    "new_data"
   ]
  },
  {
   "cell_type": "code",
   "execution_count": null,
   "metadata": {},
   "outputs": [],
   "source": [
    "n_data=pd.DataFrame(new_data)\n",
    "n_data.to_csv(path_or_buf='new_data_test.csv')\n",
    "n_data"
   ]
  },
  {
   "cell_type": "code",
   "execution_count": null,
   "metadata": {},
   "outputs": [],
   "source": [
    "import pandas as pd\n",
    "import torch\n",
    "from matplotlib import pyplot as plt\n",
    "\n",
    "n_data = pd.read_csv('new_data.csv')\n",
    "trip = n_data['trip']\n",
    "f_size = n_data['f_size']\n",
    "\n",
    "cal = []"
   ]
  },
  {
   "cell_type": "code",
   "execution_count": null,
   "metadata": {},
   "outputs": [],
   "source": [
    "\n",
    "\n",
    "import pandas as pd\n",
    "import torch\n",
    "from matplotlib import pyplot as plt\n",
    "import seaborn as sns\n",
    "\n",
    "n_data = pd.read_csv('new_data.csv')\n",
    "\n",
    "n_data=n_data[n_data['trip']!=0]\n",
    "\n",
    "trip = n_data['trip']\n",
    "f_size = n_data['f_size']\n",
    "\n",
    "cal = []\n",
    "\n",
    "\n",
    "\n",
    "for i in range(len(n_data)):\n",
    "    cal.append(trip.iloc[i]/f_size.iloc[i])\n",
    "\n",
    "\n",
    "plt.plot(cal, f_size, 'ro')\n",
    "plt.show()\n"
   ]
  },
  {
   "cell_type": "code",
   "execution_count": null,
   "metadata": {},
   "outputs": [],
   "source": [
    "len(n_data)"
   ]
  },
  {
   "cell_type": "code",
   "execution_count": null,
   "metadata": {},
   "outputs": [],
   "source": [
    "len(cal)"
   ]
  },
  {
   "cell_type": "code",
   "execution_count": null,
   "metadata": {},
   "outputs": [],
   "source": [
    "n_data"
   ]
  },
  {
   "cell_type": "code",
   "execution_count": null,
   "metadata": {},
   "outputs": [],
   "source": [
    "trip.iloc[1]"
   ]
  },
  {
   "cell_type": "code",
   "execution_count": null,
   "metadata": {},
   "outputs": [],
   "source": [
    "import os\n",
    "os.environ[\"KMP_DUPLICATE_LIB_OK\"]=\"TRUE\"\n",
    "import pandas as pd\n",
    "import torch\n",
    "from matplotlib import pyplot as plt\n",
    "import seaborn as sns\n",
    "\n",
    "\n",
    "\n",
    "n_data = pd.read_csv('new_data.csv')\n",
    "\n",
    "n_data=n_data[n_data['trip']!=0]\n",
    "\n",
    "trip = n_data['trip']\n",
    "f_size = n_data['f_size']\n",
    "\n",
    "cal = []\n",
    "for i in range(len(n_data)):\n",
    "    cal.append(trip.iloc[i]/f_size.iloc[i])\n",
    "\n",
    "\n",
    "sns.lmplot(x=\"f_size\", y=\"trip\", data=n_data)"
   ]
  },
  {
   "cell_type": "code",
   "execution_count": null,
   "metadata": {},
   "outputs": [],
   "source": [
    "import pandas as pd\n",
    "import seaborn as sns\n",
    "\n",
    "dt=pd.read_csv('1.csv')\n",
    "sns.lmplot(x=,y=,data=dt)"
   ]
  },
  {
   "cell_type": "code",
   "execution_count": null,
   "metadata": {},
   "outputs": [],
   "source": [
    "import pandas as pd\n",
    "import math\n",
    "\n",
    "shapefile=pd.read_csv('sg_map.csv')\n",
    "shapefile.set_index('id')\n",
    "good0_data=pd.read_csv('1.csv').head(1000)\n",
    "\n",
    "def distance(id1,id2):\n",
    "    Lat_A=shapefile.loc[id1]['Lat']\n",
    "    Lon_A=shapefile.loc[id1]['Lon']\n",
    "    Lat_B=shapefile.loc[id2]['Lat']\n",
    "    Lon_B=shapefile.loc[id2]['Lon']\n",
    "    C = math.sin(Lat_A)*math.sin(Lat_B)*math.cos(Lon_A-Lon_B) + \\\n",
    "        math.cos(Lat_A)*math.cos(Lat_B)\n",
    "    return 6371.004*math.acos(C)*math.pi/180\n",
    "\n",
    "for i in range(len(good0_data)):\n",
    "    if good0_data.loc[i]['trip_m6_wd_pm']==0:\n",
    "        good0_data=good0_data.drop([i])\n",
    "\n",
    "good0_data\n"
   ]
  },
  {
   "cell_type": "code",
   "execution_count": null,
   "metadata": {},
   "outputs": [],
   "source": [
    "import pandas as pd\n",
    "import math\n",
    "import time\n",
    "from alive_progress import alive_bar\n",
    "\n",
    "shapefile = pd.read_csv('sg_map.csv')\n",
    "shapefile.set_index('id')\n",
    "good0_data = pd.read_csv('1.csv')\n",
    "\n",
    "\n",
    "\n",
    "for i in range(len(good0_data)):\n",
    "    if good0_data.loc[i]['trip_m6_wd_pm'] == 0:\n",
    "        dis = good0_data.loc[i]['dist_km']\n",
    "        if dis >= 3.5:\n",
    "            print(i)\n",
    "            good0_data = good0_data.drop([i])\n"
   ]
  },
  {
   "cell_type": "code",
   "execution_count": null,
   "metadata": {},
   "outputs": [],
   "source": [
    "import numpy\n",
    "good0_data"
   ]
  },
  {
   "cell_type": "code",
   "execution_count": null,
   "metadata": {},
   "outputs": [],
   "source": [
    "good0_data['ori'].values"
   ]
  },
  {
   "cell_type": "code",
   "execution_count": null,
   "metadata": {},
   "outputs": [],
   "source": [
    "a=numpy.array([1,2,3])\n",
    "b=numpy.array([0,4,1])"
   ]
  },
  {
   "cell_type": "code",
   "execution_count": null,
   "metadata": {},
   "outputs": [],
   "source": [
    "if a==b:\n",
    "    print('a')"
   ]
  },
  {
   "cell_type": "code",
   "execution_count": null,
   "metadata": {},
   "outputs": [],
   "source": [
    "type(a)"
   ]
  },
  {
   "cell_type": "code",
   "execution_count": null,
   "metadata": {},
   "outputs": [],
   "source": [
    "from matplotlib.pyplot import triplot\n",
    "import pandas as pd\n",
    "import math\n",
    "import time\n",
    "from alive_progress import alive_bar\n",
    "import numpy\n",
    "shapefile = pd.read_csv('sg_map.csv')\n",
    "shapefile.set_index('id')\n",
    "good0_data = pd.read_csv('1.csv')\n",
    "\n",
    "\n",
    "def distance(id1, id2):\n",
    "    Lat_A = shapefile.loc[id1]['Lat']\n",
    "    Lon_A = shapefile.loc[id1]['Lon']\n",
    "    Lat_B = shapefile.loc[id2]['Lat']\n",
    "    Lon_B = shapefile.loc[id2]['Lon']\n",
    "    C = math.sin(Lat_A)*math.sin(Lat_B)*math.cos(Lon_A-Lon_B) + \\\n",
    "        math.cos(Lat_A)*math.cos(Lat_B)\n",
    "    return 6371.004*math.acos(C)*math.pi/180\n",
    "\n",
    "\n",
    "full = len(good0_data)\n",
    "\n",
    "# with alive_bar(len(good0_data)) as bar:\n",
    "#     for i in range(len(good0_data)):\n",
    "#         try:\n",
    "#             if good0_data.loc[i]['trip_m6_wd_pm']==0:\n",
    "#                 id1=good0_data.loc[i]['ori']\n",
    "#                 id2=good0_data.loc[i]['dst']\n",
    "#                 dis=distance(id1,id2)\n",
    "#                 print(dis)\n",
    "#                 if dis>=3.5:\n",
    "#                     good0_data=good0_data.drop([i])\n",
    "#         except:\n",
    "#             continue\n",
    "#         bar()\n",
    "\n",
    "processed=pd.DataFrame(columns=('ori',dst','dist_km','fsize_m6_wd_pm','trip_m6_wd_pm',\n",
    "                                'community_m6','mrt_km_o','entro_o','cycle_km_o',\n",
    "                                'far_hdb_o','far_priv_o','far_comm_o','mrt_km_d',\n",
    "                                'entro_d','cycle_km_d','far_hdb_d','far_priv_d','far_comm_d'))\n",
    "zeros=numpy.zeros(full)\n",
    "limit=numpy.array([3.5 for i in range(full)])\n",
    "print(type(limit), type(zeros))\n",
    "# for row in good0_data:\n",
    "#     if row['trip_m6_wd_pm'] == 0 and row['dist_km']>=3.5\n",
    "    \n",
    "def drop_0row(i,trip,dis):\n",
    "    print(type(i),type(trip),type(dis))\n",
    "    tar1=trip==zeros\n",
    "    tar2=dis>=limit\n",
    "    with alive_bar(len(good0_data)) as bar:\n",
    "        for x in i:\n",
    "            if tar1[x] and tar2[x]:\n",
    "                pass\n",
    "            else:\n",
    "                processed.append(good0_data.iloc[x])\n",
    "            bar()\n",
    "    \n",
    "drop_0row(range(len(good0_data)),good0_data['trip_m6_wd_pm'].values,good0_data['dist_km'].values)\n",
    "\n",
    "# with alive_bar(len(good0_data)) as bar:\n",
    "#     for i in range(len(good0_data)):\n",
    "#         row = good0_data.iloc[i]\n",
    "#         if row['trip_m6_wd_pm'] == 0:\n",
    "#             dis = row['dist_km']\n",
    "#             if dis >= 3.5:\n",
    "#                 good0_data.drop([i],inplace=True)\n",
    "#         bar()\n",
    "\n",
    "processed.to_csv(path_or_buf='0_removed.csv')"
   ]
  },
  {
   "cell_type": "code",
   "execution_count": null,
   "metadata": {},
   "outputs": [],
   "source": [
    "\n",
    "import pandas as pd\n",
    "import math\n",
    "import time\n",
    "from alive_progress import alive_bar\n",
    "import numpy\n",
    "shapefile = pd.read_csv('sg_map.csv')\n",
    "shapefile.set_index('id')\n",
    "good0_data = pd.read_csv('1.csv').head(3000)\n",
    "\n",
    "\n",
    "def distance(id1, id2):\n",
    "    Lat_A = shapefile.loc[id1]['Lat']\n",
    "    Lon_A = shapefile.loc[id1]['Lon']\n",
    "    Lat_B = shapefile.loc[id2]['Lat']\n",
    "    Lon_B = shapefile.loc[id2]['Lon']\n",
    "    C = math.sin(Lat_A)*math.sin(Lat_B)*math.cos(Lon_A-Lon_B) + \\\n",
    "        math.cos(Lat_A)*math.cos(Lat_B)\n",
    "    return 6371.004*math.acos(C)*math.pi/180\n",
    "\n",
    "\n",
    "full = len(good0_data)\n",
    "\n",
    "# with alive_bar(len(good0_data)) as bar:\n",
    "#     for i in range(len(good0_data)):\n",
    "#         try:\n",
    "#             if good0_data.loc[i]['trip_m6_wd_pm']==0:\n",
    "#                 id1=good0_data.loc[i]['ori']\n",
    "#                 id2=good0_data.loc[i]['dst']\n",
    "#                 dis=distance(id1,id2)\n",
    "#                 print(dis)\n",
    "#                 if dis>=3.5:\n",
    "#                     good0_data=good0_data.drop([i])\n",
    "#         except:\n",
    "#             continue\n",
    "#         bar()\n",
    "\n",
    "processed=pd.DataFrame(columns=('ori','dst','dist_km','fsize_m6_wd_pm','trip_m6_wd_pm',\n",
    "                                'community_m6','mrt_km_o','entro_o','cycle_km_o',\n",
    "                                'far_hdb_o','far_priv_o','far_comm_o','mrt_km_d',\n",
    "                                'entro_d','cycle_km_d','far_hdb_d','far_priv_d','far_comm_d'))\n",
    "zeros=numpy.zeros(full)\n",
    "limit=numpy.array([3.5 for i in range(full)])\n",
    "print(type(limit), type(zeros))\n",
    "\n",
    "    \n",
    "def drop_0row(i,trip,dis):\n",
    "    print(type(i),type(trip),type(dis))\n",
    "    tar1=trip==zeros\n",
    "    tar2=dis>=limit\n",
    "    return tar1,tar2\n",
    "\n",
    "def compare(tar1,tar2):\n",
    "    for x in range(len(tar1)):\n",
    "        print(tar1[x],tar2[x])\n",
    "        if tar1[x] and tar2[x]:\n",
    "            pass\n",
    "        else:\n",
    "            print('1')\n",
    "            procesprocessed.append(good0_data.iloc[x])\n",
    "\n",
    "    \n",
    "    \n",
    "tar1,tar2=drop_0row(range(len(good0_data)),good0_data['trip_m6_wd_pm'].values,good0_data['dist_km'].values)\n",
    "compare(tar1,tar2)\n",
    "\n",
    "processed.to_csv(path_or_buf='0_removed.csv')"
   ]
  },
  {
   "cell_type": "code",
   "execution_count": null,
   "metadata": {},
   "outputs": [],
   "source": [
    "tar2"
   ]
  },
  {
   "cell_type": "code",
   "execution_count": null,
   "metadata": {},
   "outputs": [],
   "source": [
    "\n",
    "d=pd.DataFrame(good0_data.iloc[1]).T\n",
    "\n",
    "x=pd.merge(d,processed,ignore_index=True)"
   ]
  },
  {
   "cell_type": "code",
   "execution_count": null,
   "metadata": {},
   "outputs": [],
   "source": [
    "x"
   ]
  },
  {
   "cell_type": "code",
   "execution_count": null,
   "metadata": {},
   "outputs": [],
   "source": [
    "d\n"
   ]
  },
  {
   "cell_type": "code",
   "execution_count": null,
   "metadata": {},
   "outputs": [],
   "source": [
    "import numpy as np\n",
    "import pandas as pd\n",
    "import seaborn as sns\n",
    "from sklearn.feature_selection import mutual_info_regression \n",
    "from alive_progress import alive_bar\n",
    "\n",
    "data=pd.read_csv('1.csv')\n",
    "data.head()\n",
    "\n",
    "sg_map=pd.read_csv('sg_map.csv')\n",
    "sg_map.head()\n",
    "\n",
    "sg_map_xy=sg_map.set_index(['xmin','xmax','ymin','ymax'])\n",
    "\n",
    "find0_entro_o=data['entro_o'].values\n",
    "find0_entro_d=data['entro_d'].values\n",
    "ass=[0 for i in range(241238)]\n",
    "is0_entro_o=(ass==find0_entro_o)\n",
    "is0_entro_d=(ass==find0_entro_d)\n",
    "\n",
    "coord=[]\n",
    "result=[]\n",
    "data_index_ori=data.set_index('ori')\n",
    "sg_map_index_id=sg_map.set_index('id')\n",
    "\n",
    "\n",
    "for i in range(len(is0_entro_o)):\n",
    "    neighbour_num=0\n",
    "    neighbour_entro=0\n",
    "    if is0_entro_o[i]:\n",
    "        ori_id=data.loc[i]['ori']\n",
    "        coord=list(sg_map_index_id.loc[ori_id][2:6])\n",
    "        try:\n",
    "                # upper=[coord[0],coord[1],coord[2]+0.0001,coord[3]+0.0001]\n",
    "            nid=sg_map_xy.loc[coord[0],coord[1],round(coord[2]+300.0001,4),round(coord[3]+300.0001,4)]['id']\n",
    "            neighbour_num+=1\n",
    "            neighbour_entro+=data_index_ori.loc[nid]['entro_o'].values[0]\n",
    "        except:\n",
    "            pass\n",
    "        try:\n",
    "                # lower=[coord[0],coord[1],coord[2]-0.0001,coord[3]-0.0001]\n",
    "            nid=sg_map_xy.loc[coord[0],coord[1],round(coord[2]-300.0001,4),round(coord[3]-300.0001,4)]['id']\n",
    "            neighbour_num+=1\n",
    "            neighbour_entro+=data_index_ori.loc[nid]['entro_o'].values[0]\n",
    "        except:\n",
    "            pass\n",
    "        try:\n",
    "                # left=[coord[0]-0.0001,coord[1]-0.0001,coord[2],coord[3]]\n",
    "            nid=sg_map_xy.loc[coord[0]-0.0001,coord[1]-0.0001,coord[2],coord[3]]['id']\n",
    "            neighbour_num+=1\n",
    "            neighbour_entro+=data_index_ori.loc[nid]['entro_o'].values[0]\n",
    "        except:\n",
    "            pass\n",
    "        try:\n",
    "                # right=[coord[0]-0.0001,coord[1]-0.0001,coord[2],coord[3]]\n",
    "            nid=sg_map_xy.loc[coord[0]-0.0001,coord[1]-0.0001,coord[2],coord[3]]['id']\n",
    "            neighbour_num+=1\n",
    "            neighbour_entro+=data_index_ori.loc[nid]['entro_o'].values[0]\n",
    "        except:\n",
    "            pass\n",
    "        if not neighbour_num==0:\n",
    "            result.append(neighbour_entro/neighbour_num)\n",
    "        else:\n",
    "            result.append(0)\n",
    "    else:\n",
    "        result.append(0)"
   ]
  },
  {
   "cell_type": "code",
   "execution_count": null,
   "metadata": {},
   "outputs": [],
   "source": [
    "\n"
   ]
  },
  {
   "cell_type": "code",
   "execution_count": null,
   "metadata": {},
   "outputs": [],
   "source": [
    "result=pd.Series(result)\n",
    "result.describe()"
   ]
  },
  {
   "cell_type": "code",
   "execution_count": null,
   "metadata": {},
   "outputs": [],
   "source": [
    "coord=[]\n",
    "result=[]\n",
    "data_index_ori=data.set_index('ori')\n",
    "sg_map_index_id=sg_map.set_index('id',drop=False)\n",
    "neighbour_num=0\n",
    "neighbour_entro=0\n",
    "\n",
    "\n",
    "coord=list(sg_map_index_id.loc[2605][2:6])\n",
    "try:\n",
    "                # upper=[coord[0],coord[1],coord[2]+0.0001,coord[3]+0.0001]\n",
    "    nid=sg_map_xy.loc[coord[0],coord[1],round(coord[2]+300.0001,4),round(coord[3]+300.0001,4)]['id']\n",
    "    neighbour_num+=1\n",
    "    neighbour_entro+=data_index_ori.loc[nid]['entro_o'].values[0]\n",
    "except:\n",
    "    pass\n",
    "try:\n",
    "                # lower=[coord[0],coord[1],coord[2]-0.0001,coord[3]-0.0001]\n",
    "    nid=sg_map_xy.loc[coord[0],coord[1],round(coord[2]-300.0001,4),round(coord[3]-300.0001,4)]['id']\n",
    "    neighbour_num+=1\n",
    "    neighbour_entro+=data_index_ori.loc[nid]['entro_o'].values[0]\n",
    "except:\n",
    "    pass\n",
    "try:\n",
    "                # left=[coord[0]-0.0001,coord[1]-0.0001,coord[2],coord[3]]\n",
    "    nid=sg_map_xy.loc[coord[0]-0.0001,coord[1]-0.0001,coord[2],coord[3]]['id']\n",
    "    neighbour_num+=1\n",
    "    neighbour_entro+=data_index_ori.loc[nid]['entro_o'].values[0]\n",
    "except:\n",
    "    pass\n",
    "try:\n",
    "                # right=[coord[0]-0.0001,coord[1]-0.0001,coord[2],coord[3]]\n",
    "    nid=sg_map_xy.loc[coord[0]-0.0001,coord[1]-0.0001,coord[2],coord[3]]['id']\n",
    "    neighbour_num+=1\n",
    "    neighbour_entro+=data_index_ori.loc[nid]['entro_o'].values[0]\n",
    "except:\n",
    "    pass\n",
    "if not neighbour_num==0:\n",
    "    result.append(neighbour_entro/neighbour_num)\n",
    "else:\n",
    "    result.append(0)\n"
   ]
  },
  {
   "cell_type": "code",
   "execution_count": null,
   "metadata": {},
   "outputs": [],
   "source": [
    "result"
   ]
  },
  {
   "cell_type": "code",
   "execution_count": null,
   "metadata": {},
   "outputs": [],
   "source": [
    "resultcoord=[]\n",
    "result=[]\n",
    "data_index_ori=data.set_index('ori')\n",
    "sg_map_index_id=sg_map.set_index('id')\n",
    "neighbour_num=0\n",
    "neighbour_entro=0\n"
   ]
  },
  {
   "cell_type": "code",
   "execution_count": null,
   "metadata": {},
   "outputs": [],
   "source": [
    "\n",
    "coord=list(sg_map_index_id.loc[2605][1:5])\n",
    "coord"
   ]
  },
  {
   "cell_type": "code",
   "execution_count": null,
   "metadata": {},
   "outputs": [],
   "source": [
    "sg_map_index_id"
   ]
  },
  {
   "cell_type": "code",
   "execution_count": null,
   "metadata": {},
   "outputs": [],
   "source": [
    "import numpy as np\n",
    "import pandas as pd\n",
    "import seaborn as sns\n",
    "from sklearn.feature_selection import mutual_info_regression \n",
    "from alive_progress import alive_bar\n",
    "\n",
    "data=pd.read_csv('0_removed.csv')\n",
    "\n",
    "\n",
    "sg_map=pd.read_csv('sg_map.csv')\n",
    "\n",
    "\n",
    "sg_map_xy=sg_map.set_index(['xmin','xmax','ymin','ymax'])\n",
    "\n",
    "find0_entro_o=data['entro_o'].values\n",
    "find0_entro_d=data['entro_d'].values\n",
    "ass=[0 for i in range(241238)]\n",
    "is0_entro_o=(ass==find0_entro_o)\n",
    "is0_entro_d=(ass==find0_entro_d)\n"
   ]
  },
  {
   "cell_type": "code",
   "execution_count": null,
   "metadata": {},
   "outputs": [],
   "source": [
    "is0_entro_o"
   ]
  },
  {
   "cell_type": "code",
   "execution_count": null,
   "metadata": {},
   "outputs": [],
   "source": [
    "data.describe()"
   ]
  }
 ],
 "metadata": {
  "kernelspec": {
   "display_name": "Python 3.6.13 64-bit ('pytorch_env': conda)",
   "name": "python3613jvsc74a57bd0dca4efdd400e53e6663797bbd1b46cf726b4dffb9a4cd6e80b88fc0d122f2781"
  },
  "language_info": {
   "codemirror_mode": {
    "name": "ipython",
    "version": 3
   },
   "file_extension": ".py",
   "mimetype": "text/x-python",
   "name": "python",
   "nbconvert_exporter": "python",
   "pygments_lexer": "ipython3",
   "version": "3.6.13"
  },
  "orig_nbformat": 2
 },
 "nbformat": 4,
 "nbformat_minor": 2
}
