{
 "cells": [
  {
   "cell_type": "code",
   "execution_count": null,
   "metadata": {},
   "outputs": [],
   "source": [
    "import matplotlib.pyplot as plt\n",
    "import numpy as np\n",
    "import pandas as pd\n",
    "import seaborn as sns\n",
    "\n",
    "from sklearn.ensemble import RandomForestRegressor\n",
    "from sklearn.metrics import mean_squared_error\n",
    "from sklearn.metrics import r2_score\n",
    "from sklearn.model_selection import train_test_split\n",
    "from sklearn.tree import DecisionTreeRegressor\n",
    "from sklearn.feature_selection import mutual_info_regression "
   ]
  },
  {
   "cell_type": "code",
   "execution_count": null,
   "metadata": {},
   "outputs": [],
   "source": [
    "df=pd.read_csv('lonal_entro.csv')\n",
    "df.columns"
   ]
  },
  {
   "cell_type": "code",
   "execution_count": null,
   "metadata": {},
   "outputs": [],
   "source": [
    "features_o = ['far_hdb_o', 'far_priv_o', 'far_comm_o']\n",
    "features_d = ['far_hdb_d', 'far_priv_d', 'far_comm_d']\n",
    "features_od=['far_hdb_o', 'far_priv_o', 'far_comm_o','far_hdb_d', 'far_priv_d', 'far_comm_d']\n",
    "X = df.copy()\n",
    "y = X.pop('trip_m6_wd_pm')\n",
    "Xo = X[features_o]\n",
    "Xd = X[features_d]\n",
    "Xod = X[features_od]\n",
    "\n",
    "\n"
   ]
  },
  {
   "cell_type": "code",
   "execution_count": null,
   "metadata": {},
   "outputs": [],
   "source": [
    "delcol=[ 'Unnamed: 0', 'Unnamed: 0.1','smooth_entro_o',\n",
    "       'smooth_entro_d','ori_lat', 'ori_lon', 'dst_lat', 'dst_lon',\n",
    "       'has_trip', 'ori_lonal_pc1', 'ori_lonal_pc2', 'dst_lonal_pc1',\n",
    "       'dst_lonal_pc2', 'od_lonal_pc1', 'od_lonal_pc2', 'od_lonal_pc3',\n",
    "       'od_lonal_pc4', 'lonal_baseline', 'ori_cluster', 'dst_cluster']\n",
    "for col in delcol:\n",
    "    try:\n",
    "        del df[col]\n",
    "    except:\n",
    "        pass\n",
    "df.to_csv('pca_far.csv')"
   ]
  },
  {
   "cell_type": "code",
   "execution_count": null,
   "metadata": {},
   "outputs": [],
   "source": [
    "df.columns"
   ]
  },
  {
   "cell_type": "code",
   "execution_count": null,
   "metadata": {},
   "outputs": [],
   "source": [
    "Xo.describe()"
   ]
  },
  {
   "cell_type": "code",
   "execution_count": null,
   "metadata": {},
   "outputs": [],
   "source": [
    "# Standardize\n",
    "Xo_scaled = (Xo - Xo.mean(axis=0)) / Xo.std(axis=0)\n",
    "Xd_scaled = (Xd - Xd.mean(axis=0)) / Xd.std(axis=0)\n",
    "Xod_scaled = (Xod - Xod.mean(axis=0)) / Xod.std(axis=0)"
   ]
  },
  {
   "cell_type": "code",
   "execution_count": null,
   "metadata": {},
   "outputs": [],
   "source": [
    "from sklearn.decomposition import PCA\n",
    "\n",
    "# Create principal components\n",
    "pca = PCA()\n",
    "Xo_pca = pca.fit_transform(Xo_scaled)\n",
    "Xd_pca = pca.fit_transform(Xd_scaled)\n",
    "Xod_pca = pca.fit_transform(Xod_scaled)\n",
    "\n",
    "# Convert to dataframe\n",
    "component_names = [f\"PC{i+1}\" for i in range(Xo_pca.shape[1])]\n",
    "Xo_pca = pd.DataFrame(Xo_pca, columns=component_names)\n",
    "Xd_pca = pd.DataFrame(Xd_pca, columns=component_names)\n",
    "Xod_pca = pd.DataFrame(Xod_pca, columns=['PC1','PC2','PC3','PC4','PC5','PC6'])\n",
    "\n",
    "df['ori_far_pc1']=Xo_pca['PC1']\n",
    "df['ori_far_pc2']=Xo_pca['PC2']\n",
    "df['ori_far_pc3']=Xod_pca['PC3']\n",
    "df['dst_far_pc1']=Xd_pca['PC1']\n",
    "df['dst_far_pc2']=Xd_pca['PC2']\n",
    "df['dst_far_pc3']=Xod_pca['PC3']\n",
    "df['od_far_pc1']=Xod_pca['PC1']\n",
    "df['od_far_pc2']=Xod_pca['PC2']\n",
    "df['od_far_pc3']=Xod_pca['PC3']\n"
   ]
  },
  {
   "cell_type": "code",
   "execution_count": null,
   "metadata": {},
   "outputs": [],
   "source": [
    "df.describe()"
   ]
  },
  {
   "cell_type": "code",
   "execution_count": null,
   "metadata": {},
   "outputs": [],
   "source": [
    "df.columns"
   ]
  },
  {
   "cell_type": "code",
   "execution_count": null,
   "metadata": {},
   "outputs": [],
   "source": [
    "plt.style.use(\"bmh\")\n",
    "def make_mi_scores(X, y):\n",
    "    X = X.copy()\n",
    "    for colname in X.select_dtypes([\"object\", \"category\"]):\n",
    "        X[colname], _ = X[colname].factorize()\n",
    "    discrete_features = [pd.api.types.is_integer_dtype(t) for t in X.dtypes]\n",
    "    mi_scores = mutual_info_regression(X, y, discrete_features=discrete_features, random_state=0)\n",
    "    mi_scores = pd.Series(mi_scores, name=\"MI Scores\", index=X.columns)\n",
    "    mi_scores = mi_scores.sort_values(ascending=False)\n",
    "    return mi_scores\n",
    "\n",
    "\n",
    "def plot_mi_scores(scores):\n",
    "    scores = scores.sort_values(ascending=True)\n",
    "    width = np.arange(len(scores))\n",
    "    ticks = list(scores.index)\n",
    "    plt.barh(width, scores)\n",
    "    plt.yticks(width, ticks)\n",
    "    plt.title(\"Mutual Information Scores\")"
   ]
  },
  {
   "cell_type": "code",
   "execution_count": null,
   "metadata": {},
   "outputs": [],
   "source": [
    "ycol='trip_m6_wd_pm'\n",
    "xcol=[ 'entro_o', 'far_hdb_o',\n",
    "       'far_priv_o', 'far_comm_o', 'entro_d', \n",
    "       'far_hdb_d', 'far_priv_d', 'far_comm_d', 'ori_far_pc1', 'ori_far_pc2',\n",
    "       'ori_far_pc3', 'dst_far_pc2', 'od_far_pc1', 'od_far_pc2', 'od_far_pc3',\n",
    "       'dst_far_pc1', 'dst_far_pc3']\n",
    "y=df[ycol]\n",
    "X=df[xcol]                                \n",
    "scores=make_mi_scores(X, y)\n",
    "plt.figure(dpi=200)\n",
    "plot_mi_scores(scores)\n",
    "plt.savefig('far_pca.jpg')"
   ]
  },
  {
   "cell_type": "code",
   "execution_count": null,
   "metadata": {},
   "outputs": [],
   "source": [
    "df['ori_far_pc1']"
   ]
  },
  {
   "cell_type": "code",
   "execution_count": null,
   "metadata": {},
   "outputs": [],
   "source": [
    "df.to_csv('pca_far.csv')"
   ]
  },
  {
   "cell_type": "code",
   "execution_count": null,
   "metadata": {},
   "outputs": [],
   "source": []
  },
  {
   "cell_type": "code",
   "execution_count": null,
   "metadata": {},
   "outputs": [],
   "source": []
  }
 ],
 "metadata": {
  "kernelspec": {
   "display_name": "Python 3.6.13 64-bit ('pytorch_env': conda)",
   "name": "python3613jvsc74a57bd0dca4efdd400e53e6663797bbd1b46cf726b4dffb9a4cd6e80b88fc0d122f2781"
  },
  "language_info": {
   "codemirror_mode": {
    "name": "ipython",
    "version": 3
   },
   "file_extension": ".py",
   "mimetype": "text/x-python",
   "name": "python",
   "nbconvert_exporter": "python",
   "pygments_lexer": "ipython3",
   "version": "3.6.13"
  },
  "orig_nbformat": 2
 },
 "nbformat": 4,
 "nbformat_minor": 2
}
