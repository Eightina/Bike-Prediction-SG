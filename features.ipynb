{
 "cells": [
  {
   "cell_type": "markdown",
   "metadata": {},
   "source": [
    "预测效果不好，返回来检查各feature和两个预测目标的关系"
   ]
  },
  {
   "cell_type": "code",
   "execution_count": null,
   "metadata": {},
   "outputs": [],
   "source": [
    "import matplotlib.pyplot as plt\n",
    "import numpy as np\n",
    "import pandas as pd\n",
    "import seaborn as sns\n",
    "\n",
    "from sklearn.ensemble import RandomForestRegressor\n",
    "from sklearn.metrics import mean_squared_error\n",
    "from sklearn.metrics import r2_score\n",
    "from sklearn.model_selection import train_test_split\n",
    "from sklearn.tree import DecisionTreeRegressor\n",
    "from sklearn.feature_selection import mutual_info_regression \n"
   ]
  },
  {
   "cell_type": "code",
   "execution_count": null,
   "metadata": {},
   "outputs": [],
   "source": [
    "data=pd.read_csv('lonal_entro.csv')\n",
    "data.columns"
   ]
  },
  {
   "cell_type": "code",
   "execution_count": null,
   "metadata": {},
   "outputs": [],
   "source": [
    "data.__delitem__('Unnamed: 0')\n",
    "data.__delitem__('Unnamed: 0.1')"
   ]
  },
  {
   "cell_type": "code",
   "execution_count": null,
   "metadata": {},
   "outputs": [],
   "source": [
    "data.columns"
   ]
  },
  {
   "cell_type": "markdown",
   "metadata": {},
   "source": [
    "还是先看has_trip"
   ]
  },
  {
   "cell_type": "code",
   "execution_count": null,
   "metadata": {},
   "outputs": [],
   "source": [
    "for col in data.columns:\n",
    "    if col != 'trip_m6_wd_pm':\n",
    "        sns.boxplot(x='has_trip', y=col, saturation=0.5, palette='pastel', data=data)\n",
    "        plt.title(col)\n",
    "        plt.show()"
   ]
  },
  {
   "cell_type": "markdown",
   "metadata": {},
   "source": [
    "解释性全都很糟糕,或许可以认为出行量较低的od对，是否有出行是非常缺乏规律的，0还是1都是随机的结果。"
   ]
  },
  {
   "cell_type": "markdown",
   "metadata": {},
   "source": [
    "has_trip可能并不是一个好编码方式，尝试多分几段"
   ]
  },
  {
   "cell_type": "code",
   "execution_count": null,
   "metadata": {},
   "outputs": [],
   "source": [
    "data.trip_m6_wd_pm.describe()"
   ]
  },
  {
   "cell_type": "code",
   "execution_count": null,
   "metadata": {},
   "outputs": [],
   "source": [
    "datax=data.sort_values(by='trip_m6_wd_pm')"
   ]
  },
  {
   "cell_type": "code",
   "execution_count": null,
   "metadata": {},
   "outputs": [],
   "source": [
    "plt.style.use('bmh')\n",
    "plt.figure(dpi=200)\n",
    "plt.title('sort_trip')\n",
    "# plt.plot(range(int(194600*0.995),194661),datax.trip_m6_wd_pm[int(194600*0.995):194661])\n",
    "plt.plot(range(int(194661)),datax.trip_m6_wd_pm)\n",
    "plt.savefig('pics\\sort_trip.png')"
   ]
  },
  {
   "cell_type": "markdown",
   "metadata": {},
   "source": [
    "数据过于稀疏。决定分成-0.1,0.5,1.5,60,5000\n",
    "四段"
   ]
  },
  {
   "cell_type": "code",
   "execution_count": null,
   "metadata": {},
   "outputs": [],
   "source": [
    "trip=data['trip_m6_wd_pm']\n",
    "bins=[-0.1,0.5,1.5,60,5000]\n",
    "cut_res=pd.cut(trip,bins=bins,labels=[0,1,2,4])\n",
    "data['trip_intense']=cut_res"
   ]
  },
  {
   "cell_type": "code",
   "execution_count": null,
   "metadata": {},
   "outputs": [],
   "source": []
  },
  {
   "cell_type": "code",
   "execution_count": null,
   "metadata": {},
   "outputs": [],
   "source": [
    "for col in data.columns:\n",
    "    sns.boxplot(x= 'trip_intense', y=col, saturation=0.5, palette='pastel', data=data)\n",
    "    plt.title(col)\n",
    "    plt.show()"
   ]
  },
  {
   "cell_type": "markdown",
   "metadata": {},
   "source": [
    "发现出行量60以上的od对和其他出行强度档次的各种特征有明显区别\n",
    "应该按50为界划分\n"
   ]
  },
  {
   "cell_type": "code",
   "execution_count": null,
   "metadata": {},
   "outputs": [],
   "source": [
    "trip=data['trip_m6_wd_pm']\n",
    "bins=[-0.1,60,5000]\n",
    "cut_res=pd.cut(trip,bins=bins,labels=['a','b'])\n",
    "data['trip_intense_60']=cut_res"
   ]
  },
  {
   "cell_type": "code",
   "execution_count": null,
   "metadata": {},
   "outputs": [],
   "source": [
    "plotcol=['ori', 'dst', 'dist_km',\n",
    "       'fsize_m6_wd_pm', 'trip_m6_wd_pm', 'community_m6', 'mrt_km_o',\n",
    "       'entro_o', 'cycle_km_o', 'far_hdb_o', 'far_priv_o', 'far_comm_o',\n",
    "       'mrt_km_d', 'entro_d', 'cycle_km_d', 'far_hdb_d', 'far_priv_d',\n",
    "       'far_comm_d', 'smooth_entro_o', 'smooth_entro_d', 'ori_lat', 'ori_lon',\n",
    "       'dst_lat', 'dst_lon', 'ori_lonal_pc1', 'ori_lonal_pc2',\n",
    "       'dst_lonal_pc1', 'dst_lonal_pc2', 'od_lonal_pc1', 'od_lonal_pc2',\n",
    "       'od_lonal_pc3', 'od_lonal_pc4', 'lonal_baseline']"
   ]
  },
  {
   "cell_type": "code",
   "execution_count": null,
   "metadata": {},
   "outputs": [],
   "source": [
    "for col in plotcol:\n",
    "    if col != 'trip_intense_60'  :\n",
    "        sns.boxplot(x= 'trip_intense_60', y=col, saturation=0.5, palette='pastel', data=data)\n",
    "        plt.title(col)\n",
    "        plt.show()"
   ]
  },
  {
   "cell_type": "markdown",
   "metadata": {},
   "source": [
    "进行数值分析，准备将trip_intense_60的切片结果作为supervised feature的基础.\n",
    "或者也可能采取类似的方法，按其他标准将trip再切片，下面看看community\n"
   ]
  },
  {
   "cell_type": "code",
   "execution_count": null,
   "metadata": {},
   "outputs": [],
   "source": [
    "data.groupby('trip_intense_60').describe()"
   ]
  },
  {
   "cell_type": "code",
   "execution_count": null,
   "metadata": {},
   "outputs": [],
   "source": [
    "data.columns"
   ]
  },
  {
   "cell_type": "code",
   "execution_count": null,
   "metadata": {},
   "outputs": [],
   "source": [
    "data[\"community_encoded\"] = data.groupby(\"community_m6\")[\"trip_m6_wd_pm\"].transform(\"mean\")\n"
   ]
  },
  {
   "cell_type": "code",
   "execution_count": null,
   "metadata": {},
   "outputs": [],
   "source": [
    "data.groupby(\"community_m6\")[\"trip_m6_wd_pm\"].plot(legend=True)\n"
   ]
  },
  {
   "cell_type": "code",
   "execution_count": null,
   "metadata": {},
   "outputs": [],
   "source": [
    "x=data.groupby(\"community_m6\")[\"trip_m6_wd_pm\"].agg(['mean','max','min','std','median'])\n",
    "x"
   ]
  },
  {
   "cell_type": "code",
   "execution_count": null,
   "metadata": {},
   "outputs": [],
   "source": [
    "m=data.groupby(\"community_m6\")[\"trip_m6_wd_pm\"]"
   ]
  },
  {
   "cell_type": "code",
   "execution_count": null,
   "metadata": {},
   "outputs": [],
   "source": [
    "m0=m.get_group(0)\n",
    "m1=m.get_group(1)\n",
    "plt.boxplot([m0,m1])"
   ]
  },
  {
   "cell_type": "code",
   "execution_count": null,
   "metadata": {},
   "outputs": [],
   "source": [
    "plt.style.use(\"bmh\")\n",
    "def make_mi_scores(X, y):\n",
    "    X = X.copy()\n",
    "    for colname in X.select_dtypes([\"object\", \"category\"]):\n",
    "        X[colname], _ = X[colname].factorize()\n",
    "    discrete_features = [pd.api.types.is_integer_dtype(t) for t in X.dtypes]\n",
    "    mi_scores = mutual_info_regression(X, y, discrete_features=discrete_features, random_state=0)\n",
    "    mi_scores = pd.Series(mi_scores, name=\"MI Scores\", index=X.columns)\n",
    "    mi_scores = mi_scores.sort_values(ascending=False)\n",
    "    return mi_scores\n",
    "\n",
    "\n",
    "def plot_mi_scores(scores):\n",
    "    scores = scores.sort_values(ascending=True)\n",
    "    width = np.arange(len(scores))\n",
    "    ticks = list(scores.index)\n",
    "    plt.barh(width, scores)\n",
    "    plt.yticks(width, ticks)\n",
    "    plt.title(\"Mutual Information Scores\")\n",
    "ycol='trip_m6_wd_pm'\n",
    "xcol=['community_m6','community_encoded']\n",
    "# y=data[ycol]\n",
    "# X=data[xcol]                                \n",
    "# scores=make_mi_scores(X, y)\n",
    "# plot_mi_scores(scores)"
   ]
  },
  {
   "cell_type": "markdown",
   "metadata": {},
   "source": [
    "更垃圾了。都是什么贵物特征，下面对经纬度pca"
   ]
  },
  {
   "cell_type": "code",
   "execution_count": null,
   "metadata": {},
   "outputs": [],
   "source": [
    "data=pd.read_csv('lonal_entro.csv')\n",
    "data.columns"
   ]
  },
  {
   "cell_type": "code",
   "execution_count": null,
   "metadata": {},
   "outputs": [],
   "source": [
    "features_o = [\"ori_lat\", \"ori_lon\"]\n",
    "features_d = [\"dst_lat\", \"dst_lon\"]\n",
    "features_od=[\"ori_lat\", \"ori_lon\",\"dst_lat\", \"dst_lon\"]\n",
    "X = data.copy()\n",
    "y = X.pop('trip_m6_wd_pm')\n",
    "Xo = X.loc[:, features_o]\n",
    "Xd = X.loc[:, features_d]\n",
    "Xod = X.loc[:, features_od]\n",
    "\n",
    "\n",
    "# Standardize\n",
    "Xo_scaled = (Xo - Xo.mean(axis=0)) / Xo.std(axis=0)\n",
    "Xd_scaled = (Xd - Xd.mean(axis=0)) / Xd.std(axis=0)\n",
    "Xod_scaled = (Xod - Xod.mean(axis=0)) / Xod.std(axis=0)"
   ]
  },
  {
   "cell_type": "code",
   "execution_count": null,
   "metadata": {},
   "outputs": [],
   "source": [
    "from sklearn.decomposition import PCA\n",
    "\n",
    "# Create principal components\n",
    "pca = PCA()\n",
    "Xo_pca = pca.fit_transform(Xo_scaled)\n",
    "Xd_pca = pca.fit_transform(Xd_scaled)\n",
    "Xod_pca = pca.fit_transform(Xod_scaled)\n",
    "\n",
    "# Convert to dataframe\n",
    "component_names = [f\"PC{i+1}\" for i in range(Xo_pca.shape[1])]\n",
    "Xo_pca = pd.DataFrame(Xo_pca, columns=component_names)\n",
    "Xd_pca = pd.DataFrame(Xd_pca, columns=component_names)\n",
    "Xod_pca = pd.DataFrame(Xod_pca, columns=['PC1','PC2','PC3','PC4'])\n",
    "\n",
    "data['ori_lonal_pc1']=Xo_pca['PC1']\n",
    "data['ori_lonal_pc2']=Xo_pca['PC2']\n",
    "data['dst_lonal_pc1']=Xd_pca['PC1']\n",
    "data['dst_lonal_pc2']=Xd_pca['PC2']\n",
    "data['od_lonal_pc1']=Xod_pca['PC1']\n",
    "data['od_lonal_pc2']=Xod_pca['PC2']\n",
    "data['od_lonal_pc3']=Xod_pca['PC3']\n",
    "data['od_lonal_pc4']=Xod_pca['PC4']\n"
   ]
  },
  {
   "cell_type": "code",
   "execution_count": null,
   "metadata": {},
   "outputs": [],
   "source": [
    "data.columns"
   ]
  },
  {
   "cell_type": "code",
   "execution_count": null,
   "metadata": {},
   "outputs": [],
   "source": [
    "ycol='trip_m6_wd_pm'\n",
    "xcol=['ori_lonal_pc1', 'ori_lonal_pc2', 'dst_lonal_pc1', 'dst_lonal_pc2','ori_lat', 'ori_lon', 'dst_lat', 'dst_lon','ori', 'dst','od_lonal_pc1', 'od_lonal_pc2', 'od_lonal_pc3', 'od_lonal_pc4']\n",
    "y=data[ycol]\n",
    "X=data[xcol]                                \n",
    "scores=make_mi_scores(X, y)\n",
    "plot_mi_scores(scores)"
   ]
  },
  {
   "cell_type": "code",
   "execution_count": null,
   "metadata": {},
   "outputs": [],
   "source": []
  },
  {
   "cell_type": "code",
   "execution_count": null,
   "metadata": {},
   "outputs": [],
   "source": [
    "pc3和pc4是不错的特征"
   ]
  },
  {
   "cell_type": "code",
   "execution_count": null,
   "metadata": {},
   "outputs": [],
   "source": [
    "加入lonal_baseline作为基准\n"
   ]
  },
  {
   "cell_type": "code",
   "execution_count": null,
   "metadata": {},
   "outputs": [],
   "source": [
    "data['lonal_baseline']=(data.ori_lon+data.ori_lat+data.dst_lon+data.dst_lat)/4"
   ]
  },
  {
   "cell_type": "code",
   "execution_count": null,
   "metadata": {},
   "outputs": [],
   "source": [
    "ycol='trip_m6_wd_pm'\n",
    "xcol=['ori_lonal_pc1', 'ori_lonal_pc2', 'dst_lonal_pc1', 'dst_lonal_pc2','ori_lat', 'ori_lon', 'dst_lat', 'dst_lon','ori', 'dst','od_lonal_pc1', 'od_lonal_pc2', 'od_lonal_pc3', 'od_lonal_pc4','lonal_baseline']\n",
    "y=data[ycol]\n",
    "X=data[xcol]                                \n",
    "scores=make_mi_scores(X, y)\n",
    "plot_mi_scores(scores)\n",
    "\n"
   ]
  },
  {
   "cell_type": "code",
   "execution_count": null,
   "metadata": {},
   "outputs": [],
   "source": [
    "data.to_csv('lonal_entro.csv')"
   ]
  },
  {
   "cell_type": "markdown",
   "metadata": {},
   "source": [
    "为什么呢,切片分组画个图看看"
   ]
  },
  {
   "cell_type": "code",
   "execution_count": null,
   "metadata": {},
   "outputs": [],
   "source": [
    "data['od_lonal_pc4'].describe()"
   ]
  },
  {
   "cell_type": "code",
   "execution_count": null,
   "metadata": {},
   "outputs": [],
   "source": [
    "pc1=data.sort_values('od_lonal_pc1')['od_lonal_pc1']\n",
    "pc4=data.sort_values('od_lonal_pc4')['od_lonal_pc4']\n",
    "x=range(194661)\n",
    "# plt.plot(x,pc4,'b')\n",
    "# plt.plot(x,pc1,'r')\n",
    "plt.plot(data['od_lonal_pc4'],data['trip_m6_wd_pm'],'ro')\n"
   ]
  },
  {
   "cell_type": "code",
   "execution_count": null,
   "metadata": {},
   "outputs": [],
   "source": [
    "plt.plot(data['od_lonal_pc3'],data['trip_m6_wd_pm'],'ro')"
   ]
  },
  {
   "cell_type": "code",
   "execution_count": null,
   "metadata": {},
   "outputs": [],
   "source": [
    "plt.plot(data['od_lonal_pc1'],data['trip_m6_wd_pm'],'ro')"
   ]
  },
  {
   "cell_type": "code",
   "execution_count": null,
   "metadata": {},
   "outputs": [],
   "source": [
    "第三、四主成分确实更有规律性，处理一下，。"
   ]
  },
  {
   "cell_type": "code",
   "execution_count": null,
   "metadata": {},
   "outputs": [],
   "source": []
  },
  {
   "cell_type": "code",
   "execution_count": null,
   "metadata": {},
   "outputs": [],
   "source": [
    "\n",
    "plt.plot((data['od_lonal_pc4']*data['od_lonal_pc4']),1/data['trip_m6_wd_pm'],'ro')"
   ]
  },
  {
   "cell_type": "markdown",
   "metadata": {},
   "source": [
    "但回看对trip分组箱图，似乎不太对劲，是由于pc3pc4太接近0吗？\n",
    "加一个baseline_0"
   ]
  },
  {
   "cell_type": "code",
   "execution_count": null,
   "metadata": {},
   "outputs": [],
   "source": [
    "data=pd.read_csv('lonal_entro.csv')\n",
    "data['baseline_0']=[0 for i in range(194661)]\n",
    "data.columns"
   ]
  },
  {
   "cell_type": "code",
   "execution_count": null,
   "metadata": {},
   "outputs": [],
   "source": [
    "ycol='trip_m6_wd_pm'\n",
    "xcol=['ori', 'dst','od_lonal_pc3', 'od_lonal_pc4','lonal_baseline','baseline_0']\n",
    "y=data[ycol]\n",
    "X=data[xcol]                                \n",
    "scores=make_mi_scores(X, y)\n",
    "plot_mi_scores(scores)\n"
   ]
  },
  {
   "cell_type": "markdown",
   "metadata": {},
   "source": [
    "看来并不是。pc4是个好feature"
   ]
  },
  {
   "cell_type": "markdown",
   "metadata": {},
   "source": [
    "去forest—_test来看看对于pc4对预测效果的提高"
   ]
  },
  {
   "cell_type": "markdown",
   "metadata": {},
   "source": [
    "回忆目标trip，看看能不能对目标进行重新编码"
   ]
  },
  {
   "cell_type": "markdown",
   "metadata": {},
   "source": [
    "聚类"
   ]
  },
  {
   "cell_type": "code",
   "execution_count": null,
   "metadata": {},
   "outputs": [],
   "source": [
    "n_data=pd.read_csv('new_data.csv').set_index('ori',drop=False)\n",
    "n_data"
   ]
  },
  {
   "cell_type": "code",
   "execution_count": null,
   "metadata": {},
   "outputs": [],
   "source": [
    "sg_map=pd.read_csv('sg_map.csv').set_index('id')\n",
    "sg_map"
   ]
  },
  {
   "cell_type": "code",
   "execution_count": null,
   "metadata": {},
   "outputs": [],
   "source": [
    "new_sg=pd.concat([n_data,sg_map],axis=1,join='inner')"
   ]
  },
  {
   "cell_type": "code",
   "execution_count": null,
   "metadata": {},
   "outputs": [],
   "source": [
    "new_sg"
   ]
  },
  {
   "cell_type": "code",
   "execution_count": null,
   "metadata": {},
   "outputs": [],
   "source": [
    "new_sg.to_csv('sg_trip_lonal.csv')"
   ]
  },
  {
   "cell_type": "code",
   "execution_count": null,
   "metadata": {},
   "outputs": [],
   "source": [
    "from sklearn.datasets import load_iris\n",
    "\n",
    "from sklearn.preprocessing import MinMaxScaler\n",
    "\n",
    "from sklearn.cluster import KMeans\n",
    "Xcol=['trip', \"Lat\", \"Lon\"]\n",
    "X = new_sg[Xcol]\n",
    "X.head()\n",
    "\n",
    "\n",
    "\n"
   ]
  },
  {
   "cell_type": "code",
   "execution_count": null,
   "metadata": {},
   "outputs": [],
   "source": [
    "\n",
    "kmeans = KMeans(n_clusters=4)\n",
    "X[\"Cluster\"] = kmeans.fit_predict(X)\n",
    "X[\"Cluster\"] = X[\"Cluster\"].astype(\"category\")\n",
    "\n",
    "X.head()\n"
   ]
  },
  {
   "cell_type": "code",
   "execution_count": null,
   "metadata": {},
   "outputs": [],
   "source": [
    "new_sg['cluster']=X[\"Cluster\"]"
   ]
  },
  {
   "cell_type": "code",
   "execution_count": null,
   "metadata": {},
   "outputs": [],
   "source": [
    "new_sg.to_csv('sg_trip_lonal.csv')"
   ]
  },
  {
   "cell_type": "code",
   "execution_count": null,
   "metadata": {},
   "outputs": [],
   "source": [
    "plt.figure(dpi=200)\n",
    "sns.scatterplot(x=new_sg['Lon'], y=new_sg['Lat'],hue=new_sg['cluster'],size=0.1)"
   ]
  },
  {
   "cell_type": "markdown",
   "metadata": {},
   "source": [
    "整理一下"
   ]
  },
  {
   "cell_type": "code",
   "execution_count": null,
   "metadata": {},
   "outputs": [],
   "source": [
    "new_sg=pd.read_csv('sg_trip_lonal.csv')\n",
    "new_sg.groupby('cluster')['trip'].agg(['mean','max','min','median','count'])"
   ]
  },
  {
   "cell_type": "code",
   "execution_count": null,
   "metadata": {},
   "outputs": [],
   "source": [
    "modi=[]\n",
    "for i in new_sg['cluster'].values:\n",
    "    if i==0:\n",
    "        modi.append(i)\n",
    "    elif i==3:\n",
    "        modi.append(1)\n",
    "    elif i==1:\n",
    "        modi.append(2)\n",
    "    else:\n",
    "        modi.append(3)\n",
    "new_sg['cluster']=modi\n"
   ]
  },
  {
   "cell_type": "code",
   "execution_count": null,
   "metadata": {},
   "outputs": [],
   "source": [
    "plt.figure(dpi=200)\n",
    "sns.scatterplot(x=new_sg['Lon'], y=new_sg['Lat'],hue=new_sg['cluster'],size=0.1)"
   ]
  },
  {
   "cell_type": "markdown",
   "metadata": {},
   "source": [
    "把cluster加到od里面去"
   ]
  },
  {
   "cell_type": "code",
   "execution_count": null,
   "metadata": {},
   "outputs": [],
   "source": [
    "main_data=pd.read_csv('lonal_entro.csv')\n",
    "main_data.head()\n",
    "  "
   ]
  },
  {
   "cell_type": "code",
   "execution_count": null,
   "metadata": {},
   "outputs": [],
   "source": [
    "new_sg=new_sg.set_index('ori')\n",
    "new_sg"
   ]
  },
  {
   "cell_type": "code",
   "execution_count": null,
   "metadata": {},
   "outputs": [],
   "source": [
    "ori=main_data['ori'].values\n",
    "sgclus=new_sg.cluster\n",
    "ori_cluster=[]\n",
    "dst_cluster=[]\n",
    "\n",
    "for i in ori:\n",
    "    try:\n",
    "        ori_cluster.append(sgclus[i])\n",
    "    except:\n",
    "        ori_cluster.append(0)\n",
    "\n",
    "dst=main_data['dst'].values\n",
    "for i in dst:\n",
    "    try:\n",
    "        dst_cluster.append(sgclus[i])\n",
    "    except:\n",
    "        dst_cluster.append(0)\n",
    "\n",
    "\n"
   ]
  },
  {
   "cell_type": "code",
   "execution_count": null,
   "metadata": {},
   "outputs": [],
   "source": [
    "main_data['ori_cluster']=ori_cluster\n",
    "main_data['dst_cluster']=dst_cluster\n",
    "main_data.to_csv('lonal_entro.csv')\n"
   ]
  },
  {
   "cell_type": "code",
   "execution_count": null,
   "metadata": {},
   "outputs": [],
   "source": [
    "ycol='trip_m6_wd_pm'\n",
    "xcol=['ori', 'dst','od_lonal_pc3', 'od_lonal_pc4','lonal_baseline','ori_cluster','dst_cluster']\n",
    "y=main_data[ycol]\n",
    "X=main_data[xcol]                                \n",
    "scores=make_mi_scores(X, y)\n",
    "plot_mi_scores(scores)"
   ]
  },
  {
   "cell_type": "code",
   "execution_count": null,
   "metadata": {},
   "outputs": [],
   "source": [
    "仅供参考？尝试回归计算"
   ]
  },
  {
   "cell_type": "code",
   "execution_count": null,
   "metadata": {},
   "outputs": [],
   "source": []
  },
  {
   "cell_type": "code",
   "execution_count": null,
   "metadata": {},
   "outputs": [],
   "source": [
    "main_data.columns"
   ]
  },
  {
   "cell_type": "code",
   "execution_count": null,
   "metadata": {},
   "outputs": [],
   "source": []
  },
  {
   "cell_type": "code",
   "execution_count": null,
   "metadata": {},
   "outputs": [],
   "source": []
  }
 ],
 "metadata": {
  "kernelspec": {
   "display_name": "Python 3.6.13 64-bit ('pytorch_env': conda)",
   "name": "python3613jvsc74a57bd0dca4efdd400e53e6663797bbd1b46cf726b4dffb9a4cd6e80b88fc0d122f2781"
  },
  "language_info": {
   "codemirror_mode": {
    "name": "ipython",
    "version": 3
   },
   "file_extension": ".py",
   "mimetype": "text/x-python",
   "name": "python",
   "nbconvert_exporter": "python",
   "pygments_lexer": "ipython3",
   "version": "3.6.13"
  },
  "orig_nbformat": 2
 },
 "nbformat": 4,
 "nbformat_minor": 2
}
