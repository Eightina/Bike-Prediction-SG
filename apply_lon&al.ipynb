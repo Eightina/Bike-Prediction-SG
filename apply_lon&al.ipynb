{
 "cells": [
  {
   "cell_type": "code",
   "execution_count": null,
   "metadata": {},
   "outputs": [],
   "source": [
    "import pandas as pd"
   ]
  },
  {
   "cell_type": "code",
   "execution_count": null,
   "metadata": {},
   "outputs": [],
   "source": [
    "og_data=pd.read_csv('0_removed.csv')\n",
    "# og_data.drop(['Unnamed: 0'])\n",
    "og_data=og_data.set_index(['ori'],drop=False)\n",
    "\n",
    "lonal=pd.read_csv('sg_map.csv')\n",
    "lonal.drop(['xmin','xmax','ymin','ymax','FID'], axis=1,inplace=True)\n",
    "lonal=lonal.set_index(['id'])\n"
   ]
  },
  {
   "cell_type": "markdown",
   "metadata": {},
   "source": [
    "FID,id,xmin,xmax,ymin,ymax,Lat,Lon\n",
    "\n",
    ",ori,dst,dist_km,fsize_m6_wd_pm,trip_m6_wd_pm,community_m6,mrt_km_o,entro_o,cycle_km_o,far_hdb_o,far_priv_o,far_comm_o,mrt_km_d,entro_d,cycle_km_d,far_hdb_d,far_priv_d,far_comm_d"
   ]
  },
  {
   "cell_type": "code",
   "execution_count": null,
   "metadata": {},
   "outputs": [],
   "source": [
    "# cat_data=pd.concat([og_data,lonal],axis=1,join='inner')\n",
    "ori=og_data['ori'].values\n",
    "dst=og_data['dst'].values\n",
    "ori_latcol=[lonal['Lat'][x] for x in ori]\n",
    "ori_loncol=[lonal['Lon'][x] for x in ori]\n"
   ]
  },
  {
   "cell_type": "code",
   "execution_count": null,
   "metadata": {},
   "outputs": [],
   "source": [
    "og_data['ori_lat']=ori_latcol\n",
    "og_data['ori_lon']=ori_loncol\n",
    "\n"
   ]
  },
  {
   "cell_type": "code",
   "execution_count": null,
   "metadata": {},
   "outputs": [],
   "source": [
    "og_data=og_data.set_index(['dst'],drop=False)\n",
    "dst_latcol=[lonal['Lat'][x] for x in dst]\n",
    "dst_loncol=[lonal['Lon'][x] for x in dst]\n",
    "og_data['dst_lat']=dst_latcol\n",
    "og_data['dst_lon']=dst_loncol"
   ]
  },
  {
   "cell_type": "code",
   "execution_count": null,
   "metadata": {},
   "outputs": [],
   "source": [
    "og_data.describe()"
   ]
  },
  {
   "cell_type": "code",
   "execution_count": null,
   "metadata": {},
   "outputs": [],
   "source": [
    "og_data.to_csv('apply_lonal.csv')"
   ]
  },
  {
   "cell_type": "code",
   "execution_count": null,
   "metadata": {},
   "outputs": [],
   "source": [
    "df=pd.read_csv('apply_lonal.csv')\n",
    "df.columns"
   ]
  },
  {
   "cell_type": "code",
   "execution_count": null,
   "metadata": {},
   "outputs": [],
   "source": [
    "df=pd.read_csv('apply_lonal.csv')\n",
    "df[['ori','dst','ori_lat','ori_lon', 'dst_lat', 'dst_lon']].head()"
   ]
  },
  {
   "cell_type": "code",
   "execution_count": null,
   "metadata": {},
   "outputs": [],
   "source": []
  }
 ],
 "metadata": {
  "kernelspec": {
   "display_name": "Python 3.6.13 64-bit ('pytorch_env': conda)",
   "name": "python3613jvsc74a57bd0dca4efdd400e53e6663797bbd1b46cf726b4dffb9a4cd6e80b88fc0d122f2781"
  },
  "language_info": {
   "codemirror_mode": {
    "name": "ipython",
    "version": 3
   },
   "file_extension": ".py",
   "mimetype": "text/x-python",
   "name": "python",
   "nbconvert_exporter": "python",
   "pygments_lexer": "ipython3",
   "version": "3.6.13"
  },
  "orig_nbformat": 2
 },
 "nbformat": 4,
 "nbformat_minor": 2
}
